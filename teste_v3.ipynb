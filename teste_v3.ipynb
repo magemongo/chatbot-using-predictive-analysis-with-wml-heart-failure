{
  "nbformat": 4,
  "nbformat_minor": 0,
  "metadata": {
    "colab": {
      "name": "teste_v3",
      "provenance": [],
      "include_colab_link": true
    },
    "kernelspec": {
      "name": "python3",
      "display_name": "Python 3"
    }
  },
  "cells": [
    {
      "cell_type": "markdown",
      "metadata": {
        "id": "view-in-github",
        "colab_type": "text"
      },
      "source": [
        "<a href=\"https://colab.research.google.com/github/magemongo/chatbot-using-predictive-analysis-with-wml-heart-failure/blob/master/teste_v3.ipynb\" target=\"_parent\"><img src=\"https://colab.research.google.com/assets/colab-badge.svg\" alt=\"Open In Colab\"/></a>"
      ]
    },
    {
      "cell_type": "markdown",
      "metadata": {
        "id": "FFO_cnEaLnzo",
        "colab_type": "text"
      },
      "source": [
        "# **Dados importados, bibliotecas de plot e dataframe.**\n"
      ]
    },
    {
      "cell_type": "markdown",
      "metadata": {
        "id": "46OhsJMX3mbp",
        "colab_type": "text"
      },
      "source": [
        "**Premissas iniciais:**\n",
        "\n",
        "Através do uso um modelo não supervisionado, como no caso de uma clusterização, encontrar nos municípios do Estado de São Paulo grupos similares baseando-se na comparação de métricas de saúde.\n",
        "\n",
        "**Variaveis iniciais:** (info adicional sobre os indicadores no diário de projeto)\n",
        "\n",
        "*   1 - Mortalidade_infantil\n",
        "*   2 - IDHM_Educacao\n",
        "*   3 - Densidade_demográfica\n",
        "*   4 - Renda_per_capita\n",
        "*   5 - Grau_de_Urbanizacao\n",
        "*   6 - Indice_de_Gini\n",
        "*   7 - Esgoto_Sanitario\n",
        "*   8 - Qtd_Estabelecimentos\n",
        "*   9 - Total_Medicos\n",
        "*   10 - Total_Doses_Aplicadas\n",
        "\n",
        "\n"
      ]
    },
    {
      "cell_type": "markdown",
      "metadata": {
        "id": "xAYBTOUHwRGe",
        "colab_type": "text"
      },
      "source": [
        "Importamos as bibliotecas:\n",
        "- Pandas para leitura e manipulação do Dataframe\n",
        "- Matplotlib e Seaborn para a plotagem de gráficos\n",
        "- Numpy para operações matemáticas\n",
        "\n",
        "Em seguida usamos a função do pandas .read_csv para carregar nossa base de dados:\n"
      ]
    },
    {
      "cell_type": "code",
      "metadata": {
        "id": "d9uMgUa4BKzZ",
        "colab_type": "code",
        "outputId": "2406548a-fad0-474a-a82e-08e574674f43",
        "colab": {
          "base_uri": "https://localhost:8080/",
          "height": 479
        }
      },
      "source": [
        "import pandas as pd \n",
        "import matplotlib.pyplot as plt \n",
        "import seaborn as sns\n",
        "import numpy as np  \n",
        "\n",
        "df_raw = pd.read_csv('https://raw.githubusercontent.com/EduardoMoraesRitter/CA_MU_DS_VINCE/master/dado_municipios.csv', encoding='UTF-8', error_bad_lines=False, sep=';') \n",
        "df_raw"
      ],
      "execution_count": 33,
      "outputs": [
        {
          "output_type": "execute_result",
          "data": {
            "text/html": [
              "<div>\n",
              "<style scoped>\n",
              "    .dataframe tbody tr th:only-of-type {\n",
              "        vertical-align: middle;\n",
              "    }\n",
              "\n",
              "    .dataframe tbody tr th {\n",
              "        vertical-align: top;\n",
              "    }\n",
              "\n",
              "    .dataframe thead th {\n",
              "        text-align: right;\n",
              "    }\n",
              "</style>\n",
              "<table border=\"1\" class=\"dataframe\">\n",
              "  <thead>\n",
              "    <tr style=\"text-align: right;\">\n",
              "      <th></th>\n",
              "      <th>Cod_IBGE</th>\n",
              "      <th>Cod_CNES</th>\n",
              "      <th>Municipio</th>\n",
              "      <th>Indice_de_Gini</th>\n",
              "      <th>Populacao</th>\n",
              "      <th>Criancas</th>\n",
              "      <th>Jovens</th>\n",
              "      <th>Adultos</th>\n",
              "      <th>Idosos</th>\n",
              "      <th>Populacao_Masculina</th>\n",
              "      <th>Populacao_Feminina</th>\n",
              "      <th>Grau_de_Urbanizacao</th>\n",
              "      <th>Abastecimento_de_Agua</th>\n",
              "      <th>Coleta_de_Lixo</th>\n",
              "      <th>Esgoto_Sanitario</th>\n",
              "      <th>Total_Doses_Aplicadas</th>\n",
              "      <th>Qtd_Estabelecimentos</th>\n",
              "      <th>Total_Equip_existente</th>\n",
              "      <th>Total_Equip_em uso</th>\n",
              "      <th>Total_Medicos</th>\n",
              "      <th>Densidade_demográfica</th>\n",
              "      <th>Mortalidade_infantil</th>\n",
              "      <th>Renda_per_capita</th>\n",
              "      <th>IDHM</th>\n",
              "      <th>IDHM_Longevidade</th>\n",
              "      <th>IDHM_Educacao</th>\n",
              "      <th>IDHM_Renda</th>\n",
              "      <th>IDHM_Ranking</th>\n",
              "      <th>Indice_Futuridade</th>\n",
              "    </tr>\n",
              "  </thead>\n",
              "  <tbody>\n",
              "    <tr>\n",
              "      <th>0</th>\n",
              "      <td>3500105</td>\n",
              "      <td>350010</td>\n",
              "      <td>Adamantina</td>\n",
              "      <td>0.515</td>\n",
              "      <td>33894</td>\n",
              "      <td>5218</td>\n",
              "      <td>4059</td>\n",
              "      <td>17219</td>\n",
              "      <td>7398</td>\n",
              "      <td>16326</td>\n",
              "      <td>17568</td>\n",
              "      <td>96.38</td>\n",
              "      <td>99.76</td>\n",
              "      <td>99.89</td>\n",
              "      <td>99.03</td>\n",
              "      <td>13419</td>\n",
              "      <td>140</td>\n",
              "      <td>336</td>\n",
              "      <td>284</td>\n",
              "      <td>145.0</td>\n",
              "      <td>85.12</td>\n",
              "      <td>11.63</td>\n",
              "      <td>778.44</td>\n",
              "      <td>0.790</td>\n",
              "      <td>0.852</td>\n",
              "      <td>0.750</td>\n",
              "      <td>0.772</td>\n",
              "      <td>35</td>\n",
              "      <td>66.5</td>\n",
              "    </tr>\n",
              "    <tr>\n",
              "      <th>1</th>\n",
              "      <td>3500204</td>\n",
              "      <td>350020</td>\n",
              "      <td>Adolfo</td>\n",
              "      <td>0.411</td>\n",
              "      <td>3447</td>\n",
              "      <td>525</td>\n",
              "      <td>458</td>\n",
              "      <td>1703</td>\n",
              "      <td>761</td>\n",
              "      <td>1707</td>\n",
              "      <td>1740</td>\n",
              "      <td>92.52</td>\n",
              "      <td>96.76</td>\n",
              "      <td>99.72</td>\n",
              "      <td>95.93</td>\n",
              "      <td>3263</td>\n",
              "      <td>5</td>\n",
              "      <td>32</td>\n",
              "      <td>31</td>\n",
              "      <td>5.0</td>\n",
              "      <td>16.88</td>\n",
              "      <td>19.23</td>\n",
              "      <td>588.02</td>\n",
              "      <td>0.730</td>\n",
              "      <td>0.844</td>\n",
              "      <td>0.648</td>\n",
              "      <td>0.710</td>\n",
              "      <td>388</td>\n",
              "      <td>60.1</td>\n",
              "    </tr>\n",
              "    <tr>\n",
              "      <th>2</th>\n",
              "      <td>3500303</td>\n",
              "      <td>350030</td>\n",
              "      <td>Aguaí</td>\n",
              "      <td>0.480</td>\n",
              "      <td>35608</td>\n",
              "      <td>7075</td>\n",
              "      <td>5215</td>\n",
              "      <td>18073</td>\n",
              "      <td>5245</td>\n",
              "      <td>17889</td>\n",
              "      <td>17719</td>\n",
              "      <td>92.21</td>\n",
              "      <td>99.29</td>\n",
              "      <td>99.66</td>\n",
              "      <td>98.87</td>\n",
              "      <td>16257</td>\n",
              "      <td>64</td>\n",
              "      <td>68</td>\n",
              "      <td>66</td>\n",
              "      <td>65.0</td>\n",
              "      <td>76.50</td>\n",
              "      <td>16.06</td>\n",
              "      <td>540.88</td>\n",
              "      <td>0.715</td>\n",
              "      <td>0.858</td>\n",
              "      <td>0.606</td>\n",
              "      <td>0.703</td>\n",
              "      <td>502</td>\n",
              "      <td>27.0</td>\n",
              "    </tr>\n",
              "    <tr>\n",
              "      <th>3</th>\n",
              "      <td>3500402</td>\n",
              "      <td>350040</td>\n",
              "      <td>Águas da Prata</td>\n",
              "      <td>0.531</td>\n",
              "      <td>7797</td>\n",
              "      <td>1174</td>\n",
              "      <td>994</td>\n",
              "      <td>3900</td>\n",
              "      <td>1729</td>\n",
              "      <td>3830</td>\n",
              "      <td>3967</td>\n",
              "      <td>92.19</td>\n",
              "      <td>95.84</td>\n",
              "      <td>99.38</td>\n",
              "      <td>87.99</td>\n",
              "      <td>3050</td>\n",
              "      <td>4</td>\n",
              "      <td>25</td>\n",
              "      <td>25</td>\n",
              "      <td>18.0</td>\n",
              "      <td>57.33</td>\n",
              "      <td>25.32</td>\n",
              "      <td>726.28</td>\n",
              "      <td>0.781</td>\n",
              "      <td>0.886</td>\n",
              "      <td>0.716</td>\n",
              "      <td>0.750</td>\n",
              "      <td>62</td>\n",
              "      <td>57.2</td>\n",
              "    </tr>\n",
              "    <tr>\n",
              "      <th>4</th>\n",
              "      <td>3500501</td>\n",
              "      <td>350050</td>\n",
              "      <td>Águas de Lindóia</td>\n",
              "      <td>0.461</td>\n",
              "      <td>18374</td>\n",
              "      <td>3506</td>\n",
              "      <td>2450</td>\n",
              "      <td>9143</td>\n",
              "      <td>3275</td>\n",
              "      <td>8944</td>\n",
              "      <td>9430</td>\n",
              "      <td>99.10</td>\n",
              "      <td>93.54</td>\n",
              "      <td>98.74</td>\n",
              "      <td>90.33</td>\n",
              "      <td>8196</td>\n",
              "      <td>41</td>\n",
              "      <td>174</td>\n",
              "      <td>161</td>\n",
              "      <td>46.0</td>\n",
              "      <td>311.10</td>\n",
              "      <td>8.37</td>\n",
              "      <td>680.22</td>\n",
              "      <td>0.745</td>\n",
              "      <td>0.846</td>\n",
              "      <td>0.675</td>\n",
              "      <td>0.725</td>\n",
              "      <td>265</td>\n",
              "      <td>66.8</td>\n",
              "    </tr>\n",
              "    <tr>\n",
              "      <th>...</th>\n",
              "      <td>...</td>\n",
              "      <td>...</td>\n",
              "      <td>...</td>\n",
              "      <td>...</td>\n",
              "      <td>...</td>\n",
              "      <td>...</td>\n",
              "      <td>...</td>\n",
              "      <td>...</td>\n",
              "      <td>...</td>\n",
              "      <td>...</td>\n",
              "      <td>...</td>\n",
              "      <td>...</td>\n",
              "      <td>...</td>\n",
              "      <td>...</td>\n",
              "      <td>...</td>\n",
              "      <td>...</td>\n",
              "      <td>...</td>\n",
              "      <td>...</td>\n",
              "      <td>...</td>\n",
              "      <td>...</td>\n",
              "      <td>...</td>\n",
              "      <td>...</td>\n",
              "      <td>...</td>\n",
              "      <td>...</td>\n",
              "      <td>...</td>\n",
              "      <td>...</td>\n",
              "      <td>...</td>\n",
              "      <td>...</td>\n",
              "      <td>...</td>\n",
              "    </tr>\n",
              "    <tr>\n",
              "      <th>640</th>\n",
              "      <td>3557006</td>\n",
              "      <td>355700</td>\n",
              "      <td>Votorantim</td>\n",
              "      <td>0.410</td>\n",
              "      <td>119824</td>\n",
              "      <td>23682</td>\n",
              "      <td>18194</td>\n",
              "      <td>61570</td>\n",
              "      <td>16378</td>\n",
              "      <td>59303</td>\n",
              "      <td>60521</td>\n",
              "      <td>96.19</td>\n",
              "      <td>98.38</td>\n",
              "      <td>99.80</td>\n",
              "      <td>95.94</td>\n",
              "      <td>57667</td>\n",
              "      <td>103</td>\n",
              "      <td>683</td>\n",
              "      <td>662</td>\n",
              "      <td>68.0</td>\n",
              "      <td>667.40</td>\n",
              "      <td>13.64</td>\n",
              "      <td>643.20</td>\n",
              "      <td>0.767</td>\n",
              "      <td>0.838</td>\n",
              "      <td>0.747</td>\n",
              "      <td>0.720</td>\n",
              "      <td>127</td>\n",
              "      <td>35.5</td>\n",
              "    </tr>\n",
              "    <tr>\n",
              "      <th>641</th>\n",
              "      <td>3557105</td>\n",
              "      <td>355710</td>\n",
              "      <td>Votuporanga</td>\n",
              "      <td>0.499</td>\n",
              "      <td>91760</td>\n",
              "      <td>14260</td>\n",
              "      <td>11418</td>\n",
              "      <td>48879</td>\n",
              "      <td>17203</td>\n",
              "      <td>44664</td>\n",
              "      <td>47096</td>\n",
              "      <td>97.20</td>\n",
              "      <td>99.50</td>\n",
              "      <td>99.79</td>\n",
              "      <td>98.95</td>\n",
              "      <td>59395</td>\n",
              "      <td>224</td>\n",
              "      <td>1338</td>\n",
              "      <td>1267</td>\n",
              "      <td>279.0</td>\n",
              "      <td>224.74</td>\n",
              "      <td>8.61</td>\n",
              "      <td>808.00</td>\n",
              "      <td>0.790</td>\n",
              "      <td>0.857</td>\n",
              "      <td>0.744</td>\n",
              "      <td>0.772</td>\n",
              "      <td>35</td>\n",
              "      <td>50.0</td>\n",
              "    </tr>\n",
              "    <tr>\n",
              "      <th>642</th>\n",
              "      <td>3557154</td>\n",
              "      <td>355715</td>\n",
              "      <td>Zacarias</td>\n",
              "      <td>0.392</td>\n",
              "      <td>2560</td>\n",
              "      <td>414</td>\n",
              "      <td>351</td>\n",
              "      <td>1314</td>\n",
              "      <td>481</td>\n",
              "      <td>1271</td>\n",
              "      <td>1289</td>\n",
              "      <td>85.27</td>\n",
              "      <td>99.06</td>\n",
              "      <td>100.00</td>\n",
              "      <td>97.02</td>\n",
              "      <td>1089</td>\n",
              "      <td>3</td>\n",
              "      <td>41</td>\n",
              "      <td>36</td>\n",
              "      <td>NaN</td>\n",
              "      <td>8.52</td>\n",
              "      <td>32.26</td>\n",
              "      <td>523.97</td>\n",
              "      <td>0.729</td>\n",
              "      <td>0.826</td>\n",
              "      <td>0.674</td>\n",
              "      <td>0.695</td>\n",
              "      <td>400</td>\n",
              "      <td>60.0</td>\n",
              "    </tr>\n",
              "    <tr>\n",
              "      <th>643</th>\n",
              "      <td>3557204</td>\n",
              "      <td>355720</td>\n",
              "      <td>Chavantes</td>\n",
              "      <td>0.481</td>\n",
              "      <td>12223</td>\n",
              "      <td>2507</td>\n",
              "      <td>1803</td>\n",
              "      <td>5815</td>\n",
              "      <td>2098</td>\n",
              "      <td>6055</td>\n",
              "      <td>6168</td>\n",
              "      <td>94.29</td>\n",
              "      <td>100.00</td>\n",
              "      <td>99.91</td>\n",
              "      <td>98.00</td>\n",
              "      <td>5682</td>\n",
              "      <td>20</td>\n",
              "      <td>96</td>\n",
              "      <td>89</td>\n",
              "      <td>6.0</td>\n",
              "      <td>65.80</td>\n",
              "      <td>5.29</td>\n",
              "      <td>586.48</td>\n",
              "      <td>0.729</td>\n",
              "      <td>0.828</td>\n",
              "      <td>0.655</td>\n",
              "      <td>0.713</td>\n",
              "      <td>400</td>\n",
              "      <td>50.9</td>\n",
              "    </tr>\n",
              "    <tr>\n",
              "      <th>644</th>\n",
              "      <td>3557303</td>\n",
              "      <td>355730</td>\n",
              "      <td>Estiva Gerbi</td>\n",
              "      <td>0.419</td>\n",
              "      <td>11079</td>\n",
              "      <td>1988</td>\n",
              "      <td>1617</td>\n",
              "      <td>5868</td>\n",
              "      <td>1606</td>\n",
              "      <td>5523</td>\n",
              "      <td>5556</td>\n",
              "      <td>79.76</td>\n",
              "      <td>97.92</td>\n",
              "      <td>99.15</td>\n",
              "      <td>96.36</td>\n",
              "      <td>4210</td>\n",
              "      <td>12</td>\n",
              "      <td>32</td>\n",
              "      <td>32</td>\n",
              "      <td>8.0</td>\n",
              "      <td>152.46</td>\n",
              "      <td>7.87</td>\n",
              "      <td>581.02</td>\n",
              "      <td>0.740</td>\n",
              "      <td>0.815</td>\n",
              "      <td>0.695</td>\n",
              "      <td>0.716</td>\n",
              "      <td>306</td>\n",
              "      <td>37.2</td>\n",
              "    </tr>\n",
              "  </tbody>\n",
              "</table>\n",
              "<p>645 rows × 29 columns</p>\n",
              "</div>"
            ],
            "text/plain": [
              "     Cod_IBGE  Cod_CNES  ... IDHM_Ranking  Indice_Futuridade\n",
              "0     3500105    350010  ...           35               66.5\n",
              "1     3500204    350020  ...          388               60.1\n",
              "2     3500303    350030  ...          502               27.0\n",
              "3     3500402    350040  ...           62               57.2\n",
              "4     3500501    350050  ...          265               66.8\n",
              "..        ...       ...  ...          ...                ...\n",
              "640   3557006    355700  ...          127               35.5\n",
              "641   3557105    355710  ...           35               50.0\n",
              "642   3557154    355715  ...          400               60.0\n",
              "643   3557204    355720  ...          400               50.9\n",
              "644   3557303    355730  ...          306               37.2\n",
              "\n",
              "[645 rows x 29 columns]"
            ]
          },
          "metadata": {
            "tags": []
          },
          "execution_count": 33
        }
      ]
    },
    {
      "cell_type": "code",
      "metadata": {
        "id": "413avE3bYMfz",
        "colab_type": "code",
        "outputId": "692699bd-2f28-4fa5-db0a-bcf846361806",
        "colab": {
          "base_uri": "https://localhost:8080/",
          "height": 35
        }
      },
      "source": [
        "'''a = df_raw[['Coleta_de_Lixo','Abastecimento_de_Agua','Esgoto_Sanitario']]\n",
        "df_raw['infra_media'] = (a['Coleta_de_Lixo'] + a['Abastecimento_de_Agua'] + a['Esgoto_Sanitario'])/3'''\n",
        "# possivel união dos indicadores Coleta de Lixo, Abastecimento de Agua e Esgoto Sanitário em uma coluna unificada"
      ],
      "execution_count": 34,
      "outputs": [
        {
          "output_type": "execute_result",
          "data": {
            "text/plain": [
              "\"a = df_raw[['Coleta_de_Lixo','Abastecimento_de_Agua','Esgoto_Sanitario']]\\ndf_raw['infra_media'] = (a['Coleta_de_Lixo'] + a['Abastecimento_de_Agua'] + a['Esgoto_Sanitario'])/3\""
            ]
          },
          "metadata": {
            "tags": []
          },
          "execution_count": 34
        }
      ]
    },
    {
      "cell_type": "markdown",
      "metadata": {
        "id": "vGKnepfBwz36",
        "colab_type": "text"
      },
      "source": [
        "Foram selecionados da base de dados original apenas os 10 indicadores que achamos mais relevantes para nossa análise, e então adicionamos os mesmos a um dataset separado chamado df_saude."
      ]
    },
    {
      "cell_type": "code",
      "metadata": {
        "id": "ex7B2hRJVKkb",
        "colab_type": "code",
        "outputId": "5e7a5f7b-b0b8-4819-c1bf-cd17735b8544",
        "colab": {
          "base_uri": "https://localhost:8080/",
          "height": 198
        }
      },
      "source": [
        "columns = ['Cod_IBGE','Mortalidade_infantil','IDHM_Educacao','Densidade_demográfica','Renda_per_capita','Grau_de_Urbanizacao','Indice_de_Gini','Esgoto_Sanitario','Qtd_Estabelecimentos','Total_Medicos','Total_Doses_Aplicadas']\n",
        "\n",
        "df_saude = df_raw[columns]\n",
        "\n",
        "#df_saude.set_index('Cod_IBGE', inplace= True)\n",
        "df_saude.head()"
      ],
      "execution_count": 35,
      "outputs": [
        {
          "output_type": "execute_result",
          "data": {
            "text/html": [
              "<div>\n",
              "<style scoped>\n",
              "    .dataframe tbody tr th:only-of-type {\n",
              "        vertical-align: middle;\n",
              "    }\n",
              "\n",
              "    .dataframe tbody tr th {\n",
              "        vertical-align: top;\n",
              "    }\n",
              "\n",
              "    .dataframe thead th {\n",
              "        text-align: right;\n",
              "    }\n",
              "</style>\n",
              "<table border=\"1\" class=\"dataframe\">\n",
              "  <thead>\n",
              "    <tr style=\"text-align: right;\">\n",
              "      <th></th>\n",
              "      <th>Cod_IBGE</th>\n",
              "      <th>Mortalidade_infantil</th>\n",
              "      <th>IDHM_Educacao</th>\n",
              "      <th>Densidade_demográfica</th>\n",
              "      <th>Renda_per_capita</th>\n",
              "      <th>Grau_de_Urbanizacao</th>\n",
              "      <th>Indice_de_Gini</th>\n",
              "      <th>Esgoto_Sanitario</th>\n",
              "      <th>Qtd_Estabelecimentos</th>\n",
              "      <th>Total_Medicos</th>\n",
              "      <th>Total_Doses_Aplicadas</th>\n",
              "    </tr>\n",
              "  </thead>\n",
              "  <tbody>\n",
              "    <tr>\n",
              "      <th>0</th>\n",
              "      <td>3500105</td>\n",
              "      <td>11.63</td>\n",
              "      <td>0.750</td>\n",
              "      <td>85.12</td>\n",
              "      <td>778.44</td>\n",
              "      <td>96.38</td>\n",
              "      <td>0.515</td>\n",
              "      <td>99.03</td>\n",
              "      <td>140</td>\n",
              "      <td>145.0</td>\n",
              "      <td>13419</td>\n",
              "    </tr>\n",
              "    <tr>\n",
              "      <th>1</th>\n",
              "      <td>3500204</td>\n",
              "      <td>19.23</td>\n",
              "      <td>0.648</td>\n",
              "      <td>16.88</td>\n",
              "      <td>588.02</td>\n",
              "      <td>92.52</td>\n",
              "      <td>0.411</td>\n",
              "      <td>95.93</td>\n",
              "      <td>5</td>\n",
              "      <td>5.0</td>\n",
              "      <td>3263</td>\n",
              "    </tr>\n",
              "    <tr>\n",
              "      <th>2</th>\n",
              "      <td>3500303</td>\n",
              "      <td>16.06</td>\n",
              "      <td>0.606</td>\n",
              "      <td>76.50</td>\n",
              "      <td>540.88</td>\n",
              "      <td>92.21</td>\n",
              "      <td>0.480</td>\n",
              "      <td>98.87</td>\n",
              "      <td>64</td>\n",
              "      <td>65.0</td>\n",
              "      <td>16257</td>\n",
              "    </tr>\n",
              "    <tr>\n",
              "      <th>3</th>\n",
              "      <td>3500402</td>\n",
              "      <td>25.32</td>\n",
              "      <td>0.716</td>\n",
              "      <td>57.33</td>\n",
              "      <td>726.28</td>\n",
              "      <td>92.19</td>\n",
              "      <td>0.531</td>\n",
              "      <td>87.99</td>\n",
              "      <td>4</td>\n",
              "      <td>18.0</td>\n",
              "      <td>3050</td>\n",
              "    </tr>\n",
              "    <tr>\n",
              "      <th>4</th>\n",
              "      <td>3500501</td>\n",
              "      <td>8.37</td>\n",
              "      <td>0.675</td>\n",
              "      <td>311.10</td>\n",
              "      <td>680.22</td>\n",
              "      <td>99.10</td>\n",
              "      <td>0.461</td>\n",
              "      <td>90.33</td>\n",
              "      <td>41</td>\n",
              "      <td>46.0</td>\n",
              "      <td>8196</td>\n",
              "    </tr>\n",
              "  </tbody>\n",
              "</table>\n",
              "</div>"
            ],
            "text/plain": [
              "   Cod_IBGE Mortalidade_infantil  ...  Total_Medicos  Total_Doses_Aplicadas\n",
              "0   3500105                11.63  ...          145.0                  13419\n",
              "1   3500204                19.23  ...            5.0                   3263\n",
              "2   3500303                16.06  ...           65.0                  16257\n",
              "3   3500402                25.32  ...           18.0                   3050\n",
              "4   3500501                 8.37  ...           46.0                   8196\n",
              "\n",
              "[5 rows x 11 columns]"
            ]
          },
          "metadata": {
            "tags": []
          },
          "execution_count": 35
        }
      ]
    },
    {
      "cell_type": "markdown",
      "metadata": {
        "id": "qFXkh7hNLGn3",
        "colab_type": "text"
      },
      "source": [
        "\n",
        "# **Limpeza e Normalização dos dados**.\n"
      ]
    },
    {
      "cell_type": "markdown",
      "metadata": {
        "id": "_bFf5jYn5TtZ",
        "colab_type": "text"
      },
      "source": [
        "Nessa etapa verificamos a existencia de valores nulos em nosso dataset, e então damos o tratamento adequado a cada caso.\n",
        "Também faremos aqui a normalização de dados absolutos, de forma que sejam sempre valores relativos, e portanto, menos enviesados.\n",
        "\n",
        "Vemos por exemplo que em nosso dataset existem 28 valores nulos na coluna Total_Medicos."
      ]
    },
    {
      "cell_type": "code",
      "metadata": {
        "id": "UBpe_VW9BcXw",
        "colab_type": "code",
        "outputId": "c4153354-9491-43b6-f0fd-2a33d5646f83",
        "colab": {
          "base_uri": "https://localhost:8080/",
          "height": 235
        }
      },
      "source": [
        "df_saude.isnull().sum()"
      ],
      "execution_count": 36,
      "outputs": [
        {
          "output_type": "execute_result",
          "data": {
            "text/plain": [
              "Cod_IBGE                  0\n",
              "Mortalidade_infantil      0\n",
              "IDHM_Educacao             0\n",
              "Densidade_demográfica     0\n",
              "Renda_per_capita          0\n",
              "Grau_de_Urbanizacao       0\n",
              "Indice_de_Gini            0\n",
              "Esgoto_Sanitario          0\n",
              "Qtd_Estabelecimentos      0\n",
              "Total_Medicos            28\n",
              "Total_Doses_Aplicadas     0\n",
              "dtype: int64"
            ]
          },
          "metadata": {
            "tags": []
          },
          "execution_count": 36
        }
      ]
    },
    {
      "cell_type": "markdown",
      "metadata": {
        "id": "qLOOgxV4ydqi",
        "colab_type": "text"
      },
      "source": [
        "Porém como seus valores são absolutos fica dificil a visualização do seu comportamento:"
      ]
    },
    {
      "cell_type": "code",
      "metadata": {
        "id": "XuGbfcy5vYlg",
        "colab_type": "code",
        "outputId": "2f586ef5-635c-4e87-e56e-3f20b6b8b77e",
        "colab": {
          "base_uri": "https://localhost:8080/",
          "height": 298
        }
      },
      "source": [
        "sns.boxplot(df_saude['Total_Medicos'])"
      ],
      "execution_count": 37,
      "outputs": [
        {
          "output_type": "execute_result",
          "data": {
            "text/plain": [
              "<matplotlib.axes._subplots.AxesSubplot at 0x7f052bc38780>"
            ]
          },
          "metadata": {
            "tags": []
          },
          "execution_count": 37
        },
        {
          "output_type": "display_data",
          "data": {
            "image/png": "[encoded data removed]",
            "text/plain": [
              "<Figure size 432x288 with 1 Axes>"
            ]
          },
          "metadata": {
            "tags": [],
            "needs_background": "light"
          }
        }
      ]
    },
    {
      "cell_type": "markdown",
      "metadata": {
        "id": "OB2UmjYGy2vk",
        "colab_type": "text"
      },
      "source": [
        "Primeiro vamos transformal o número total em uma taxa por mil habitantes utilizando uma função simples. Gerando assim uma nova coluna chamada Razao_Medico_mil_Hab.\n",
        "\n",
        "Observamos agora em um boxplot como é a distribuição de nossos dados.\n",
        "É possível observar que em nosso dados existe um número expressivo de valores extremos, e como não queremos deixar valores vazios utilizaremos a mediana em vez da média, por ser uma medida central menos sensível a *outliers*."
      ]
    },
    {
      "cell_type": "code",
      "metadata": {
        "id": "E-4YSHdNfhR5",
        "colab_type": "code",
        "outputId": "dbf4dfc4-8e1a-4350-da80-442155e1900c",
        "colab": {
          "base_uri": "https://localhost:8080/",
          "height": 126
        }
      },
      "source": [
        "df_saude['Razao_Medico_mil_Hab'] = (df_saude['Total_Medicos']*1000)/df_raw['Populacao'] #Transforma os dados absolutos para relativos."
      ],
      "execution_count": 38,
      "outputs": [
        {
          "output_type": "stream",
          "text": [
            "/usr/local/lib/python3.6/dist-packages/ipykernel_launcher.py:1: SettingWithCopyWarning: \n",
            "A value is trying to be set on a copy of a slice from a DataFrame.\n",
            "Try using .loc[row_indexer,col_indexer] = value instead\n",
            "\n",
            "See the caveats in the documentation: https://pandas.pydata.org/pandas-docs/stable/user_guide/indexing.html#returning-a-view-versus-a-copy\n",
            "  \"\"\"Entry point for launching an IPython kernel.\n"
          ],
          "name": "stderr"
        }
      ]
    },
    {
      "cell_type": "code",
      "metadata": {
        "id": "wwsbUbs4vsDU",
        "colab_type": "code",
        "outputId": "ef380fa5-a08d-49b2-8bc9-6eeef96a0f94",
        "colab": {
          "base_uri": "https://localhost:8080/",
          "height": 298
        }
      },
      "source": [
        "sns.boxplot(df_saude['Razao_Medico_mil_Hab'])"
      ],
      "execution_count": 39,
      "outputs": [
        {
          "output_type": "execute_result",
          "data": {
            "text/plain": [
              "<matplotlib.axes._subplots.AxesSubplot at 0x7f052bc09c88>"
            ]
          },
          "metadata": {
            "tags": []
          },
          "execution_count": 39
        },
        {
          "output_type": "display_data",
          "data": {
            "image/png": "[encoded data removed]",
            "text/plain": [
              "<Figure size 432x288 with 1 Axes>"
            ]
          },
          "metadata": {
            "tags": [],
            "needs_background": "light"
          }
        }
      ]
    },
    {
      "cell_type": "code",
      "metadata": {
        "id": "L2VyOZCQEHVc",
        "colab_type": "code",
        "outputId": "cf3bd639-224b-4be8-ebe0-28770a1984e9",
        "colab": {
          "base_uri": "https://localhost:8080/",
          "height": 199
        }
      },
      "source": [
        "df_saude['Razao_Medico_mil_Hab'].replace(np.nan, df_saude['Razao_Medico_mil_Hab'].median(), inplace=True) #Sustitui os valores nulos pela mediana\n",
        "df_saude.drop('Total_Medicos', axis=1, inplace=True) #Exclui a coluta Total_Medicos"
      ],
      "execution_count": 40,
      "outputs": [
        {
          "output_type": "stream",
          "text": [
            "/usr/local/lib/python3.6/dist-packages/pandas/core/generic.py:6746: SettingWithCopyWarning: \n",
            "A value is trying to be set on a copy of a slice from a DataFrame\n",
            "\n",
            "See the caveats in the documentation: https://pandas.pydata.org/pandas-docs/stable/user_guide/indexing.html#returning-a-view-versus-a-copy\n",
            "  self._update_inplace(new_data)\n",
            "/usr/local/lib/python3.6/dist-packages/pandas/core/frame.py:3997: SettingWithCopyWarning: \n",
            "A value is trying to be set on a copy of a slice from a DataFrame\n",
            "\n",
            "See the caveats in the documentation: https://pandas.pydata.org/pandas-docs/stable/user_guide/indexing.html#returning-a-view-versus-a-copy\n",
            "  errors=errors,\n"
          ],
          "name": "stderr"
        }
      ]
    },
    {
      "cell_type": "markdown",
      "metadata": {
        "id": "uflVxev90SFO",
        "colab_type": "text"
      },
      "source": [
        "Veremos agora se resolvemos o problema dos dados nulos em nosso dataset:"
      ]
    },
    {
      "cell_type": "code",
      "metadata": {
        "id": "DJmeYFKJMOj7",
        "colab_type": "code",
        "outputId": "470783d4-321a-4145-ec25-9312f8a22a7c",
        "colab": {
          "base_uri": "https://localhost:8080/",
          "height": 235
        }
      },
      "source": [
        "df_saude.isnull().sum()"
      ],
      "execution_count": 41,
      "outputs": [
        {
          "output_type": "execute_result",
          "data": {
            "text/plain": [
              "Cod_IBGE                 0\n",
              "Mortalidade_infantil     0\n",
              "IDHM_Educacao            0\n",
              "Densidade_demográfica    0\n",
              "Renda_per_capita         0\n",
              "Grau_de_Urbanizacao      0\n",
              "Indice_de_Gini           0\n",
              "Esgoto_Sanitario         0\n",
              "Qtd_Estabelecimentos     0\n",
              "Total_Doses_Aplicadas    0\n",
              "Razao_Medico_mil_Hab     0\n",
              "dtype: int64"
            ]
          },
          "metadata": {
            "tags": []
          },
          "execution_count": 41
        }
      ]
    },
    {
      "cell_type": "markdown",
      "metadata": {
        "id": "zk20wjmh0e1M",
        "colab_type": "text"
      },
      "source": [
        "Outra parte da limpeza dos dados é verificar que cada variavel está registrada como o tipo adequado de dado, categórico, contínuo ou inteiro. Verificamos isso coma função .dtypes.\n",
        "\n",
        "Vemos que Mortalidade_infantil está registrado como object (categórico), quando queremos que seja um float (contínuo). Descobrimos que isso acontece pela presença de strings  \" - \"  em algumas das linhas, então temos mais alguns dados nulos a serem tratatos:"
      ]
    },
    {
      "cell_type": "code",
      "metadata": {
        "id": "7dqTzv4y0v_L",
        "colab_type": "code",
        "outputId": "4dc8d828-7df8-48e4-c9b6-92e26a4b2963",
        "colab": {
          "base_uri": "https://localhost:8080/",
          "height": 235
        }
      },
      "source": [
        "df_saude.dtypes"
      ],
      "execution_count": 42,
      "outputs": [
        {
          "output_type": "execute_result",
          "data": {
            "text/plain": [
              "Cod_IBGE                   int64\n",
              "Mortalidade_infantil      object\n",
              "IDHM_Educacao            float64\n",
              "Densidade_demográfica    float64\n",
              "Renda_per_capita         float64\n",
              "Grau_de_Urbanizacao      float64\n",
              "Indice_de_Gini           float64\n",
              "Esgoto_Sanitario         float64\n",
              "Qtd_Estabelecimentos       int64\n",
              "Total_Doses_Aplicadas      int64\n",
              "Razao_Medico_mil_Hab     float64\n",
              "dtype: object"
            ]
          },
          "metadata": {
            "tags": []
          },
          "execution_count": 42
        }
      ]
    },
    {
      "cell_type": "code",
      "metadata": {
        "id": "1UM0ZyMZqqN9",
        "colab_type": "code",
        "outputId": "9c707a25-b2f8-44d5-e62e-af010d8fffb7",
        "colab": {
          "base_uri": "https://localhost:8080/",
          "height": 498
        }
      },
      "source": [
        "df_saude['Mortalidade_infantil'].replace('-', np.nan, inplace=True) #substitui as strings '-' por valores nulos.\n",
        "df_saude['Mortalidade_infantil'] = df_saude['Mortalidade_infantil'].astype(float) #converte Mortalidade_infantil de object para float\n",
        "sns.boxplot(df_saude['Mortalidade_infantil'])"
      ],
      "execution_count": 43,
      "outputs": [
        {
          "output_type": "stream",
          "text": [
            "/usr/local/lib/python3.6/dist-packages/pandas/core/generic.py:6746: SettingWithCopyWarning: \n",
            "A value is trying to be set on a copy of a slice from a DataFrame\n",
            "\n",
            "See the caveats in the documentation: https://pandas.pydata.org/pandas-docs/stable/user_guide/indexing.html#returning-a-view-versus-a-copy\n",
            "  self._update_inplace(new_data)\n",
            "/usr/local/lib/python3.6/dist-packages/ipykernel_launcher.py:2: SettingWithCopyWarning: \n",
            "A value is trying to be set on a copy of a slice from a DataFrame.\n",
            "Try using .loc[row_indexer,col_indexer] = value instead\n",
            "\n",
            "See the caveats in the documentation: https://pandas.pydata.org/pandas-docs/stable/user_guide/indexing.html#returning-a-view-versus-a-copy\n",
            "  \n"
          ],
          "name": "stderr"
        },
        {
          "output_type": "execute_result",
          "data": {
            "text/plain": [
              "<matplotlib.axes._subplots.AxesSubplot at 0x7f052bbd6eb8>"
            ]
          },
          "metadata": {
            "tags": []
          },
          "execution_count": 43
        },
        {
          "output_type": "display_data",
          "data": {
            "image/png": "[encoded data removed]",
            "text/plain": [
              "<Figure size 432x288 with 1 Axes>"
            ]
          },
          "metadata": {
            "tags": [],
            "needs_background": "light"
          }
        }
      ]
    },
    {
      "cell_type": "code",
      "metadata": {
        "id": "UqEi-Aolpu1Q",
        "colab_type": "code",
        "outputId": "cf45f34a-f63c-4cb0-e7bc-3f07f44812ad",
        "colab": {
          "base_uri": "https://localhost:8080/",
          "height": 108
        }
      },
      "source": [
        "df_saude['Mortalidade_infantil'].replace(np.nan, df_saude['Mortalidade_infantil'].median(), inplace=True) #usamos novamente a mediana ao inves da média pela presença de muitos outliers"
      ],
      "execution_count": 44,
      "outputs": [
        {
          "output_type": "stream",
          "text": [
            "/usr/local/lib/python3.6/dist-packages/pandas/core/generic.py:6746: SettingWithCopyWarning: \n",
            "A value is trying to be set on a copy of a slice from a DataFrame\n",
            "\n",
            "See the caveats in the documentation: https://pandas.pydata.org/pandas-docs/stable/user_guide/indexing.html#returning-a-view-versus-a-copy\n",
            "  self._update_inplace(new_data)\n"
          ],
          "name": "stderr"
        }
      ]
    },
    {
      "cell_type": "markdown",
      "metadata": {
        "id": "p5ottOJf2rJw",
        "colab_type": "text"
      },
      "source": [
        "Por fim vamos converter os ultimos dados absolutos em relativos, no caso Total_Doses_Aplicadas e Qtd_Esbalecimentos, fazendo uma taxa simples por mil habitantes transformamos seus valores e renomeamos as colunas para Doses_Aplicadas_mil_Hab e Estab_por_mil_Hab e vamos ver como esta nosso dataset:"
      ]
    },
    {
      "cell_type": "code",
      "metadata": {
        "id": "cgF35Zjy2O28",
        "colab_type": "code",
        "outputId": "dcd57f77-5598-4cd6-d48a-f8efca40fddf",
        "colab": {
          "base_uri": "https://localhost:8080/",
          "height": 398
        }
      },
      "source": [
        "columns = ['Qtd_Estabelecimentos','Total_Doses_Aplicadas']\n",
        "\n",
        "for column in columns:\n",
        "  df_saude[column] = (df_saude[column]*1000)/df_raw['Populacao']\n",
        "\n",
        "df_saude.rename(columns={'Total_Doses_Aplicadas':'Doses_Aplicadas_mil_Hab', 'Qtd_Estabelecimentos':'Estab_por_mil_Hab'}, inplace=True)\n",
        "df_saude.head()"
      ],
      "execution_count": 45,
      "outputs": [
        {
          "output_type": "stream",
          "text": [
            "/usr/local/lib/python3.6/dist-packages/ipykernel_launcher.py:4: SettingWithCopyWarning: \n",
            "A value is trying to be set on a copy of a slice from a DataFrame.\n",
            "Try using .loc[row_indexer,col_indexer] = value instead\n",
            "\n",
            "See the caveats in the documentation: https://pandas.pydata.org/pandas-docs/stable/user_guide/indexing.html#returning-a-view-versus-a-copy\n",
            "  after removing the cwd from sys.path.\n",
            "/usr/local/lib/python3.6/dist-packages/pandas/core/frame.py:4133: SettingWithCopyWarning: \n",
            "A value is trying to be set on a copy of a slice from a DataFrame\n",
            "\n",
            "See the caveats in the documentation: https://pandas.pydata.org/pandas-docs/stable/user_guide/indexing.html#returning-a-view-versus-a-copy\n",
            "  errors=errors,\n"
          ],
          "name": "stderr"
        },
        {
          "output_type": "execute_result",
          "data": {
            "text/html": [
              "<div>\n",
              "<style scoped>\n",
              "    .dataframe tbody tr th:only-of-type {\n",
              "        vertical-align: middle;\n",
              "    }\n",
              "\n",
              "    .dataframe tbody tr th {\n",
              "        vertical-align: top;\n",
              "    }\n",
              "\n",
              "    .dataframe thead th {\n",
              "        text-align: right;\n",
              "    }\n",
              "</style>\n",
              "<table border=\"1\" class=\"dataframe\">\n",
              "  <thead>\n",
              "    <tr style=\"text-align: right;\">\n",
              "      <th></th>\n",
              "      <th>Cod_IBGE</th>\n",
              "      <th>Mortalidade_infantil</th>\n",
              "      <th>IDHM_Educacao</th>\n",
              "      <th>Densidade_demográfica</th>\n",
              "      <th>Renda_per_capita</th>\n",
              "      <th>Grau_de_Urbanizacao</th>\n",
              "      <th>Indice_de_Gini</th>\n",
              "      <th>Esgoto_Sanitario</th>\n",
              "      <th>Estab_por_mil_Hab</th>\n",
              "      <th>Doses_Aplicadas_mil_Hab</th>\n",
              "      <th>Razao_Medico_mil_Hab</th>\n",
              "    </tr>\n",
              "  </thead>\n",
              "  <tbody>\n",
              "    <tr>\n",
              "      <th>0</th>\n",
              "      <td>3500105</td>\n",
              "      <td>11.63</td>\n",
              "      <td>0.750</td>\n",
              "      <td>85.12</td>\n",
              "      <td>778.44</td>\n",
              "      <td>96.38</td>\n",
              "      <td>0.515</td>\n",
              "      <td>99.03</td>\n",
              "      <td>4.130525</td>\n",
              "      <td>395.910781</td>\n",
              "      <td>4.278043</td>\n",
              "    </tr>\n",
              "    <tr>\n",
              "      <th>1</th>\n",
              "      <td>3500204</td>\n",
              "      <td>19.23</td>\n",
              "      <td>0.648</td>\n",
              "      <td>16.88</td>\n",
              "      <td>588.02</td>\n",
              "      <td>92.52</td>\n",
              "      <td>0.411</td>\n",
              "      <td>95.93</td>\n",
              "      <td>1.450537</td>\n",
              "      <td>946.620249</td>\n",
              "      <td>1.450537</td>\n",
              "    </tr>\n",
              "    <tr>\n",
              "      <th>2</th>\n",
              "      <td>3500303</td>\n",
              "      <td>16.06</td>\n",
              "      <td>0.606</td>\n",
              "      <td>76.50</td>\n",
              "      <td>540.88</td>\n",
              "      <td>92.21</td>\n",
              "      <td>0.480</td>\n",
              "      <td>98.87</td>\n",
              "      <td>1.797349</td>\n",
              "      <td>456.554707</td>\n",
              "      <td>1.825432</td>\n",
              "    </tr>\n",
              "    <tr>\n",
              "      <th>3</th>\n",
              "      <td>3500402</td>\n",
              "      <td>25.32</td>\n",
              "      <td>0.716</td>\n",
              "      <td>57.33</td>\n",
              "      <td>726.28</td>\n",
              "      <td>92.19</td>\n",
              "      <td>0.531</td>\n",
              "      <td>87.99</td>\n",
              "      <td>0.513018</td>\n",
              "      <td>391.176093</td>\n",
              "      <td>2.308580</td>\n",
              "    </tr>\n",
              "    <tr>\n",
              "      <th>4</th>\n",
              "      <td>3500501</td>\n",
              "      <td>8.37</td>\n",
              "      <td>0.675</td>\n",
              "      <td>311.10</td>\n",
              "      <td>680.22</td>\n",
              "      <td>99.10</td>\n",
              "      <td>0.461</td>\n",
              "      <td>90.33</td>\n",
              "      <td>2.231414</td>\n",
              "      <td>446.065092</td>\n",
              "      <td>2.503538</td>\n",
              "    </tr>\n",
              "  </tbody>\n",
              "</table>\n",
              "</div>"
            ],
            "text/plain": [
              "   Cod_IBGE  ...  Razao_Medico_mil_Hab\n",
              "0   3500105  ...              4.278043\n",
              "1   3500204  ...              1.450537\n",
              "2   3500303  ...              1.825432\n",
              "3   3500402  ...              2.308580\n",
              "4   3500501  ...              2.503538\n",
              "\n",
              "[5 rows x 11 columns]"
            ]
          },
          "metadata": {
            "tags": []
          },
          "execution_count": 45
        }
      ]
    },
    {
      "cell_type": "markdown",
      "metadata": {
        "id": "xJyjZnGJ3gVp",
        "colab_type": "text"
      },
      "source": [
        "# **Análises estatisticas dos dados, detecção e remoção de *outliers*, conclusões prévias e especulações.**\n",
        "\n"
      ]
    },
    {
      "cell_type": "markdown",
      "metadata": {
        "id": "b98fmFiB4Avt",
        "colab_type": "text"
      },
      "source": [
        "Agora nosso dataset está pronto para começarmos a fazer nossas primeiras suposições. Usando o seaborn, plotamos um mata de calor com a correlação de nossas variaveis, é do nosso melhor interesse que não existam correlações com valores maiores do que 0.80 em módulo, pois isso pode significar uma autocorrelação e prejudicar a qualidade do modelo que pretendemos utilizar:"
      ]
    },
    {
      "cell_type": "code",
      "metadata": {
        "id": "Bg7GhnetHLU1",
        "colab_type": "code",
        "colab": {}
      },
      "source": [
        "df_saude.set_index('Cod_IBGE', inplace= True)"
      ],
      "execution_count": 0,
      "outputs": []
    },
    {
      "cell_type": "code",
      "metadata": {
        "id": "dnDYk5kNhvqi",
        "colab_type": "code",
        "outputId": "d7371529-be23-445e-cded-7eb455fe443e",
        "colab": {
          "base_uri": "https://localhost:8080/",
          "height": 625
        }
      },
      "source": [
        "plt.figure(figsize=(15,8))\n",
        "sns.heatmap(df_saude.corr(), annot=True)"
      ],
      "execution_count": 47,
      "outputs": [
        {
          "output_type": "execute_result",
          "data": {
            "text/plain": [
              "<matplotlib.axes._subplots.AxesSubplot at 0x7f052bb543c8>"
            ]
          },
          "metadata": {
            "tags": []
          },
          "execution_count": 47
        },
        {
          "output_type": "display_data",
          "data": {
            "image/png": "[encoded data removed]",
            "text/plain": [
              "<Figure size 1080x576 with 2 Axes>"
            ]
          },
          "metadata": {
            "tags": [],
            "needs_background": "light"
          }
        }
      ]
    },
    {
      "cell_type": "markdown",
      "metadata": {
        "id": "1rzcpyKmy8S5",
        "colab_type": "text"
      },
      "source": [
        "Inicialmente optamos por usar o IDHM como uma de nossas variáveis, porém percebemos uma correlação maior que a recomendada com Renda_per_capita. Nossa suposição é a de que o IDHM, por ser um índice muito refinado que inclusive contém a renda de uma população em seu cálculo, estava criando distorções em nosso dataset. Partindo dessa premissa decidimos utilizar apenas o IDHM_Educacao, por se tratar de um um indicador mais acertivo dentro da nossa análise."
      ]
    },
    {
      "cell_type": "markdown",
      "metadata": {
        "id": "3Op3EzAq1DYE",
        "colab_type": "text"
      },
      "source": [
        "Porém ainda não podemos dizer muito sobre nossas dados. Utilizando boxplots, podemos ver a presença de muitos outliers que nos impedem de visualizar corretamente nossos dados."
      ]
    },
    {
      "cell_type": "code",
      "metadata": {
        "id": "k9ynbK1-1bbR",
        "colab_type": "code",
        "outputId": "d3bdc928-061e-480e-ffb4-59bea11b9dfc",
        "colab": {
          "base_uri": "https://localhost:8080/",
          "height": 301
        }
      },
      "source": [
        "sns.boxplot(data=df_saude, orient='h')\n",
        "print('Boxplot por variável:')\n",
        "print()"
      ],
      "execution_count": 48,
      "outputs": [
        {
          "output_type": "stream",
          "text": [
            "Boxplot por variável:\n",
            "\n"
          ],
          "name": "stdout"
        },
        {
          "output_type": "display_data",
          "data": {
            "image/png": "[encoded data removed]",
            "text/plain": [
              "<Figure size 432x288 with 1 Axes>"
            ]
          },
          "metadata": {
            "tags": [],
            "needs_background": "light"
          }
        }
      ]
    },
    {
      "cell_type": "markdown",
      "metadata": {
        "id": "qxxuocKI4uB-",
        "colab_type": "text"
      },
      "source": [
        "Como não podemos excluir municípios de nossas análises, vamos separar os outliers em um novo dataset:"
      ]
    },
    {
      "cell_type": "code",
      "metadata": {
        "id": "xKchaH5G1Cq_",
        "colab_type": "code",
        "outputId": "8bdb4b91-14ba-4355-9192-986b10f32eb1",
        "colab": {
          "base_uri": "https://localhost:8080/",
          "height": 381
        }
      },
      "source": [
        "pos_3q = []\n",
        "pre_1q = []\n",
        "\n",
        "for column in df_saude: #definição das fences de outliers usando a regra da amplitude interquartil (IQR)*1.5\n",
        "  temp_1 = (np.quantile(df_saude[column],0.25))\n",
        "  temp_3 = (np.quantile(df_saude[column],0.75))\n",
        "  print(column,':', temp_3)\n",
        "  print('Se for < que',(temp_1 - 1.5*(temp_3 - temp_1)),'Ou se for > que', (temp_3 + 1.5*(temp_3 - temp_1)))\n",
        "  pos_3q.append(temp_3 + 1.5*(temp_3 - temp_1))\n",
        "  pre_1q.append(temp_1 - 1.5*(temp_3 - temp_1))"
      ],
      "execution_count": 49,
      "outputs": [
        {
          "output_type": "stream",
          "text": [
            "Mortalidade_infantil : 23.26\n",
            "Se for < que -11.14 Ou se for > que 43.900000000000006\n",
            "IDHM_Educacao : 0.7090000000000001\n",
            "Se for < que 0.5465 Ou se for > que 0.8065000000000002\n",
            "Densidade_demográfica : 125.71\n",
            "Se for < que -133.83999999999997 Ou se for > que 281.44\n",
            "Renda_per_capita : 674.87\n",
            "Se for < que 253.42000000000004 Ou se for > que 927.74\n",
            "Grau_de_Urbanizacao : 96.06\n",
            "Se for < que 62.81000000000001 Ou se for > que 116.00999999999999\n",
            "Indice_de_Gini : 0.495\n",
            "Se for < que 0.3025 Ou se for > que 0.6105\n",
            "Esgoto_Sanitario : 98.71\n",
            "Se for < que 76.36 Ou se for > que 112.11999999999999\n",
            "Estab_por_mil_Hab : 2.073111740722825\n",
            "Se for < que -0.7884048441390191 Ou se for > que 3.7900216916399314\n",
            "Doses_Aplicadas_mil_Hab : 583.587786259542\n",
            "Se for < que 110.62389547036088 Ou se for > que 867.3661207330506\n",
            "Razao_Medico_mil_Hab : 1.7425939756036843\n",
            "Se for < que -1.137483947519387 Ou se for > que 3.4706407294775268\n"
          ],
          "name": "stdout"
        }
      ]
    },
    {
      "cell_type": "markdown",
      "metadata": {
        "id": "8SanzO2M-cPD",
        "colab_type": "text"
      },
      "source": [
        "Vamos analisar algumas das distribuições filtrando os outliers superiores ao terceiro quartil.\n",
        "\n",
        "- Renda_per_capita:"
      ]
    },
    {
      "cell_type": "code",
      "metadata": {
        "id": "i8ZFP1J-B2XU",
        "colab_type": "code",
        "outputId": "099d3287-1730-4485-8d55-b04fd96b73bf",
        "colab": {
          "base_uri": "https://localhost:8080/",
          "height": 298
        }
      },
      "source": [
        "filter = df_saude['Renda_per_capita'] < 927.74\n",
        "sns.distplot(df_saude[filter]['Renda_per_capita'])\n",
        "\n",
        "print('número de registros desconsiderando os filtrados:',df_saude[filter]['Renda_per_capita'].shape[0])"
      ],
      "execution_count": 50,
      "outputs": [
        {
          "output_type": "stream",
          "text": [
            "número de registros desconsiderando os filtrados: 627\n"
          ],
          "name": "stdout"
        },
        {
          "output_type": "display_data",
          "data": {
            "image/png": "[encoded data removed]",
            "text/plain": [
              "<Figure size 432x288 with 1 Axes>"
            ]
          },
          "metadata": {
            "tags": [],
            "needs_background": "light"
          }
        }
      ]
    },
    {
      "cell_type": "code",
      "metadata": {
        "id": "Rx43B5mWB_4n",
        "colab_type": "code",
        "outputId": "b46771f3-12f8-4421-92f1-2bebd9070dc9",
        "colab": {
          "base_uri": "https://localhost:8080/",
          "height": 298
        }
      },
      "source": [
        "sns.boxplot(df_saude[filter]['Renda_per_capita'])\n",
        "\n",
        "print('novo boxplot desconsiderando dados filtrados:')"
      ],
      "execution_count": 51,
      "outputs": [
        {
          "output_type": "stream",
          "text": [
            "novo boxplot desconsiderando dados filtrados:\n"
          ],
          "name": "stdout"
        },
        {
          "output_type": "display_data",
          "data": {
            "image/png": "[encoded data removed]",
            "text/plain": [
              "<Figure size 432x288 with 1 Axes>"
            ]
          },
          "metadata": {
            "tags": [],
            "needs_background": "light"
          }
        }
      ]
    },
    {
      "cell_type": "markdown",
      "metadata": {
        "id": "d83ITXc0CXBv",
        "colab_type": "text"
      },
      "source": [
        "- Doses_Aplicadas_mil_Hab:"
      ]
    },
    {
      "cell_type": "code",
      "metadata": {
        "id": "DYh71DmXCUgX",
        "colab_type": "code",
        "outputId": "ec248856-0480-4551-f66a-2204501da020",
        "colab": {
          "base_uri": "https://localhost:8080/",
          "height": 298
        }
      },
      "source": [
        "filter = df_saude['Doses_Aplicadas_mil_Hab'] < 867.3661207330506\n",
        "sns.distplot(df_saude[filter]['Doses_Aplicadas_mil_Hab'])\n",
        "\n",
        "print('número de registros desconsiderando os filtrados:',df_saude[filter]['Doses_Aplicadas_mil_Hab'].shape[0])"
      ],
      "execution_count": 52,
      "outputs": [
        {
          "output_type": "stream",
          "text": [
            "número de registros desconsiderando os filtrados: 622\n"
          ],
          "name": "stdout"
        },
        {
          "output_type": "display_data",
          "data": {
            "image/png": "[encoded data removed]",
            "text/plain": [
              "<Figure size 432x288 with 1 Axes>"
            ]
          },
          "metadata": {
            "tags": [],
            "needs_background": "light"
          }
        }
      ]
    },
    {
      "cell_type": "code",
      "metadata": {
        "id": "o63jlnBZCV-n",
        "colab_type": "code",
        "outputId": "7165a20e-4db0-45e8-c108-8220fb6e8540",
        "colab": {
          "base_uri": "https://localhost:8080/",
          "height": 298
        }
      },
      "source": [
        "sns.boxplot(df_saude[filter]['Doses_Aplicadas_mil_Hab'])\n",
        "\n",
        "print('novo boxplot desconsiderando dados filtrados:')"
      ],
      "execution_count": 53,
      "outputs": [
        {
          "output_type": "stream",
          "text": [
            "novo boxplot desconsiderando dados filtrados:\n"
          ],
          "name": "stdout"
        },
        {
          "output_type": "display_data",
          "data": {
            "image/png": "[encoded data removed]",
            "text/plain": [
              "<Figure size 432x288 with 1 Axes>"
            ]
          },
          "metadata": {
            "tags": [],
            "needs_background": "light"
          }
        }
      ]
    },
    {
      "cell_type": "markdown",
      "metadata": {
        "id": "iQqgogrlHQhv",
        "colab_type": "text"
      },
      "source": [
        "- Densidade_demográfica:"
      ]
    },
    {
      "cell_type": "code",
      "metadata": {
        "id": "Wpa-jjx6-Y98",
        "colab_type": "code",
        "outputId": "e1cd55bf-6609-45e3-b07a-50a7cb606dd2",
        "colab": {
          "base_uri": "https://localhost:8080/",
          "height": 299
        }
      },
      "source": [
        "filter = df_saude['Densidade_demográfica'] < 281.44\n",
        "sns.distplot(df_saude[filter]['Densidade_demográfica'])\n",
        "\n",
        "print('número de registros desconsiderando os filtrados:',df_saude[filter]['Densidade_demográfica'].shape[0])"
      ],
      "execution_count": 60,
      "outputs": [
        {
          "output_type": "stream",
          "text": [
            "número de registros desconsiderando os filtrados: 560\n"
          ],
          "name": "stdout"
        },
        {
          "output_type": "display_data",
          "data": {
            "image/png": "[encoded data removed]",
            "text/plain": [
              "<Figure size 432x288 with 1 Axes>"
            ]
          },
          "metadata": {
            "tags": [],
            "needs_background": "light"
          }
        }
      ]
    },
    {
      "cell_type": "code",
      "metadata": {
        "id": "A4sWKOQEA1MN",
        "colab_type": "code",
        "outputId": "df38b312-56b6-48c3-f04c-1d0378df7078",
        "colab": {
          "base_uri": "https://localhost:8080/",
          "height": 299
        }
      },
      "source": [
        "sns.boxplot(df_saude[filter]['Densidade_demográfica'])\n",
        "\n",
        "print('novo boxplot desconsiderando dados filtrados:')"
      ],
      "execution_count": 55,
      "outputs": [
        {
          "output_type": "stream",
          "text": [
            "novo boxplot desconsiderando dados filtrados:\n"
          ],
          "name": "stdout"
        },
        {
          "output_type": "display_data",
          "data": {
            "image/png": "[encoded data removed]",
            "text/plain": [
              "<Figure size 432x288 with 1 Axes>"
            ]
          },
          "metadata": {
            "tags": [],
            "needs_background": "light"
          }
        }
      ]
    },
    {
      "cell_type": "markdown",
      "metadata": {
        "id": "cm5DXMFhDHex",
        "colab_type": "text"
      },
      "source": [
        "Observamos que Densidade_demográfica tem o maior número de outliers, e inclusive os valores mais extremos, por esse motivo supomos que fosse um bom ponto te partida na hora de separar nossos dados.\n",
        "\n",
        "Vamos gerar um novo dataset com apenas outliers e outro sem os outliers e analisá-los por um momento:"
      ]
    },
    {
      "cell_type": "code",
      "metadata": {
        "id": "4KHlM1Z-DHM5",
        "colab_type": "code",
        "outputId": "2272b8a7-6e71-4f96-b239-a47d7fdd3068",
        "colab": {
          "base_uri": "https://localhost:8080/",
          "height": 288
        }
      },
      "source": [
        "filter = df_saude['Densidade_demográfica'] > 281.44\n",
        "df_saude_out = df_saude[filter]\n",
        "df_saude_out.describe()"
      ],
      "execution_count": 56,
      "outputs": [
        {
          "output_type": "execute_result",
          "data": {
            "text/html": [
              "<div>\n",
              "<style scoped>\n",
              "    .dataframe tbody tr th:only-of-type {\n",
              "        vertical-align: middle;\n",
              "    }\n",
              "\n",
              "    .dataframe tbody tr th {\n",
              "        vertical-align: top;\n",
              "    }\n",
              "\n",
              "    .dataframe thead th {\n",
              "        text-align: right;\n",
              "    }\n",
              "</style>\n",
              "<table border=\"1\" class=\"dataframe\">\n",
              "  <thead>\n",
              "    <tr style=\"text-align: right;\">\n",
              "      <th></th>\n",
              "      <th>Mortalidade_infantil</th>\n",
              "      <th>IDHM_Educacao</th>\n",
              "      <th>Densidade_demográfica</th>\n",
              "      <th>Renda_per_capita</th>\n",
              "      <th>Grau_de_Urbanizacao</th>\n",
              "      <th>Indice_de_Gini</th>\n",
              "      <th>Esgoto_Sanitario</th>\n",
              "      <th>Estab_por_mil_Hab</th>\n",
              "      <th>Doses_Aplicadas_mil_Hab</th>\n",
              "      <th>Razao_Medico_mil_Hab</th>\n",
              "    </tr>\n",
              "  </thead>\n",
              "  <tbody>\n",
              "    <tr>\n",
              "      <th>count</th>\n",
              "      <td>85.000000</td>\n",
              "      <td>85.000000</td>\n",
              "      <td>85.000000</td>\n",
              "      <td>85.000000</td>\n",
              "      <td>85.000000</td>\n",
              "      <td>85.000000</td>\n",
              "      <td>85.000000</td>\n",
              "      <td>85.000000</td>\n",
              "      <td>85.000000</td>\n",
              "      <td>85.000000</td>\n",
              "    </tr>\n",
              "    <tr>\n",
              "      <th>mean</th>\n",
              "      <td>11.074235</td>\n",
              "      <td>0.720435</td>\n",
              "      <td>2197.942000</td>\n",
              "      <td>771.611412</td>\n",
              "      <td>97.858706</td>\n",
              "      <td>0.498365</td>\n",
              "      <td>83.500706</td>\n",
              "      <td>1.519748</td>\n",
              "      <td>527.909579</td>\n",
              "      <td>2.153623</td>\n",
              "    </tr>\n",
              "    <tr>\n",
              "      <th>std</th>\n",
              "      <td>4.658515</td>\n",
              "      <td>0.036770</td>\n",
              "      <td>3097.453914</td>\n",
              "      <td>244.301461</td>\n",
              "      <td>3.483498</td>\n",
              "      <td>0.056822</td>\n",
              "      <td>18.240725</td>\n",
              "      <td>1.124277</td>\n",
              "      <td>166.686955</td>\n",
              "      <td>1.449198</td>\n",
              "    </tr>\n",
              "    <tr>\n",
              "      <th>min</th>\n",
              "      <td>5.910000</td>\n",
              "      <td>0.646000</td>\n",
              "      <td>293.270000</td>\n",
              "      <td>355.020000</td>\n",
              "      <td>75.830000</td>\n",
              "      <td>0.371000</td>\n",
              "      <td>32.660000</td>\n",
              "      <td>0.264444</td>\n",
              "      <td>108.781760</td>\n",
              "      <td>0.241523</td>\n",
              "    </tr>\n",
              "    <tr>\n",
              "      <th>25%</th>\n",
              "      <td>8.370000</td>\n",
              "      <td>0.699000</td>\n",
              "      <td>445.800000</td>\n",
              "      <td>583.610000</td>\n",
              "      <td>97.630000</td>\n",
              "      <td>0.461000</td>\n",
              "      <td>77.970000</td>\n",
              "      <td>0.676263</td>\n",
              "      <td>427.754030</td>\n",
              "      <td>1.118956</td>\n",
              "    </tr>\n",
              "    <tr>\n",
              "      <th>50%</th>\n",
              "      <td>9.950000</td>\n",
              "      <td>0.718000</td>\n",
              "      <td>914.800000</td>\n",
              "      <td>730.230000</td>\n",
              "      <td>98.990000</td>\n",
              "      <td>0.494000</td>\n",
              "      <td>90.360000</td>\n",
              "      <td>1.136332</td>\n",
              "      <td>515.542348</td>\n",
              "      <td>1.778324</td>\n",
              "    </tr>\n",
              "    <tr>\n",
              "      <th>75%</th>\n",
              "      <td>12.530000</td>\n",
              "      <td>0.747000</td>\n",
              "      <td>2178.000000</td>\n",
              "      <td>881.160000</td>\n",
              "      <td>100.000000</td>\n",
              "      <td>0.543000</td>\n",
              "      <td>97.010000</td>\n",
              "      <td>2.231414</td>\n",
              "      <td>604.683845</td>\n",
              "      <td>2.695750</td>\n",
              "    </tr>\n",
              "    <tr>\n",
              "      <th>max</th>\n",
              "      <td>38.460000</td>\n",
              "      <td>0.825000</td>\n",
              "      <td>14207.570000</td>\n",
              "      <td>1578.740000</td>\n",
              "      <td>100.000000</td>\n",
              "      <td>0.686000</td>\n",
              "      <td>99.850000</td>\n",
              "      <td>4.598741</td>\n",
              "      <td>1065.544806</td>\n",
              "      <td>6.059231</td>\n",
              "    </tr>\n",
              "  </tbody>\n",
              "</table>\n",
              "</div>"
            ],
            "text/plain": [
              "       Mortalidade_infantil  ...  Razao_Medico_mil_Hab\n",
              "count             85.000000  ...             85.000000\n",
              "mean              11.074235  ...              2.153623\n",
              "std                4.658515  ...              1.449198\n",
              "min                5.910000  ...              0.241523\n",
              "25%                8.370000  ...              1.118956\n",
              "50%                9.950000  ...              1.778324\n",
              "75%               12.530000  ...              2.695750\n",
              "max               38.460000  ...              6.059231\n",
              "\n",
              "[8 rows x 10 columns]"
            ]
          },
          "metadata": {
            "tags": []
          },
          "execution_count": 56
        }
      ]
    },
    {
      "cell_type": "code",
      "metadata": {
        "id": "OdA3d9Hz2pXu",
        "colab_type": "code",
        "colab": {
          "base_uri": "https://localhost:8080/",
          "height": 288
        },
        "outputId": "10c60357-1c40-4bd1-850c-998279d3a1f5"
      },
      "source": [
        "filter = df_saude['Densidade_demográfica'] <= 281.44\n",
        "df_saude_clean = df_saude[filter]\n",
        "df_saude_clean.describe()"
      ],
      "execution_count": 57,
      "outputs": [
        {
          "output_type": "execute_result",
          "data": {
            "text/html": [
              "<div>\n",
              "<style scoped>\n",
              "    .dataframe tbody tr th:only-of-type {\n",
              "        vertical-align: middle;\n",
              "    }\n",
              "\n",
              "    .dataframe tbody tr th {\n",
              "        vertical-align: top;\n",
              "    }\n",
              "\n",
              "    .dataframe thead th {\n",
              "        text-align: right;\n",
              "    }\n",
              "</style>\n",
              "<table border=\"1\" class=\"dataframe\">\n",
              "  <thead>\n",
              "    <tr style=\"text-align: right;\">\n",
              "      <th></th>\n",
              "      <th>Mortalidade_infantil</th>\n",
              "      <th>IDHM_Educacao</th>\n",
              "      <th>Densidade_demográfica</th>\n",
              "      <th>Renda_per_capita</th>\n",
              "      <th>Grau_de_Urbanizacao</th>\n",
              "      <th>Indice_de_Gini</th>\n",
              "      <th>Esgoto_Sanitario</th>\n",
              "      <th>Estab_por_mil_Hab</th>\n",
              "      <th>Doses_Aplicadas_mil_Hab</th>\n",
              "      <th>Razao_Medico_mil_Hab</th>\n",
              "    </tr>\n",
              "  </thead>\n",
              "  <tbody>\n",
              "    <tr>\n",
              "      <th>count</th>\n",
              "      <td>560.000000</td>\n",
              "      <td>560.000000</td>\n",
              "      <td>560.000000</td>\n",
              "      <td>560.000000</td>\n",
              "      <td>560.000000</td>\n",
              "      <td>560.000000</td>\n",
              "      <td>560.000000</td>\n",
              "      <td>560.000000</td>\n",
              "      <td>560.000000</td>\n",
              "      <td>560.000000</td>\n",
              "    </tr>\n",
              "    <tr>\n",
              "      <th>mean</th>\n",
              "      <td>20.992696</td>\n",
              "      <td>0.669643</td>\n",
              "      <td>58.839821</td>\n",
              "      <td>575.801304</td>\n",
              "      <td>85.241696</td>\n",
              "      <td>0.452589</td>\n",
              "      <td>91.624107</td>\n",
              "      <td>1.635169</td>\n",
              "      <td>494.676650</td>\n",
              "      <td>1.172434</td>\n",
              "    </tr>\n",
              "    <tr>\n",
              "      <th>std</th>\n",
              "      <td>18.390473</td>\n",
              "      <td>0.046411</td>\n",
              "      <td>59.651790</td>\n",
              "      <td>114.462576</td>\n",
              "      <td>13.524200</td>\n",
              "      <td>0.054924</td>\n",
              "      <td>13.997367</td>\n",
              "      <td>0.965861</td>\n",
              "      <td>160.996133</td>\n",
              "      <td>0.949101</td>\n",
              "    </tr>\n",
              "    <tr>\n",
              "      <th>min</th>\n",
              "      <td>2.740000</td>\n",
              "      <td>0.520000</td>\n",
              "      <td>3.660000</td>\n",
              "      <td>205.840000</td>\n",
              "      <td>25.890000</td>\n",
              "      <td>0.334000</td>\n",
              "      <td>7.370000</td>\n",
              "      <td>0.180571</td>\n",
              "      <td>0.000000</td>\n",
              "      <td>0.054215</td>\n",
              "    </tr>\n",
              "    <tr>\n",
              "      <th>25%</th>\n",
              "      <td>10.282500</td>\n",
              "      <td>0.638000</td>\n",
              "      <td>19.712500</td>\n",
              "      <td>500.822500</td>\n",
              "      <td>81.347500</td>\n",
              "      <td>0.413000</td>\n",
              "      <td>91.895000</td>\n",
              "      <td>0.957860</td>\n",
              "      <td>390.816469</td>\n",
              "      <td>0.568760</td>\n",
              "    </tr>\n",
              "    <tr>\n",
              "      <th>50%</th>\n",
              "      <td>15.250000</td>\n",
              "      <td>0.673000</td>\n",
              "      <td>35.650000</td>\n",
              "      <td>575.795000</td>\n",
              "      <td>89.135000</td>\n",
              "      <td>0.449500</td>\n",
              "      <td>97.140000</td>\n",
              "      <td>1.359125</td>\n",
              "      <td>473.648856</td>\n",
              "      <td>0.958135</td>\n",
              "    </tr>\n",
              "    <tr>\n",
              "      <th>75%</th>\n",
              "      <td>25.080000</td>\n",
              "      <td>0.701250</td>\n",
              "      <td>73.070000</td>\n",
              "      <td>647.045000</td>\n",
              "      <td>94.112500</td>\n",
              "      <td>0.489000</td>\n",
              "      <td>98.850000</td>\n",
              "      <td>2.067636</td>\n",
              "      <td>571.616908</td>\n",
              "      <td>1.480645</td>\n",
              "    </tr>\n",
              "    <tr>\n",
              "      <th>max</th>\n",
              "      <td>166.670000</td>\n",
              "      <td>0.782000</td>\n",
              "      <td>273.660000</td>\n",
              "      <td>1014.470000</td>\n",
              "      <td>100.000000</td>\n",
              "      <td>0.676000</td>\n",
              "      <td>100.000000</td>\n",
              "      <td>6.872028</td>\n",
              "      <td>1244.536941</td>\n",
              "      <td>8.622950</td>\n",
              "    </tr>\n",
              "  </tbody>\n",
              "</table>\n",
              "</div>"
            ],
            "text/plain": [
              "       Mortalidade_infantil  ...  Razao_Medico_mil_Hab\n",
              "count            560.000000  ...            560.000000\n",
              "mean              20.992696  ...              1.172434\n",
              "std               18.390473  ...              0.949101\n",
              "min                2.740000  ...              0.054215\n",
              "25%               10.282500  ...              0.568760\n",
              "50%               15.250000  ...              0.958135\n",
              "75%               25.080000  ...              1.480645\n",
              "max              166.670000  ...              8.622950\n",
              "\n",
              "[8 rows x 10 columns]"
            ]
          },
          "metadata": {
            "tags": []
          },
          "execution_count": 57
        }
      ]
    },
    {
      "cell_type": "code",
      "metadata": {
        "id": "i2CAmAYW82_z",
        "colab_type": "code",
        "colab": {
          "base_uri": "https://localhost:8080/",
          "height": 269
        },
        "outputId": "c68ffeac-eda9-4660-ba5b-b47388f3a720"
      },
      "source": [
        "plt.hist(df_saude['Densidade_demográfica'], bins=np.logspace(np.log10(10),np.log10(10000)))\n",
        "plt.gca().set_xscale(\"log\")\n",
        "plt.show()"
      ],
      "execution_count": 68,
      "outputs": [
        {
          "output_type": "display_data",
          "data": {
            "image/png": "[encoded data removed]",
            "text/plain": [
              "<Figure size 432x288 with 1 Axes>"
            ]
          },
          "metadata": {
            "tags": [],
            "needs_background": "light"
          }
        }
      ]
    },
    {
      "cell_type": "markdown",
      "metadata": {
        "id": "K7CG8_csVJ5_",
        "colab_type": "text"
      },
      "source": [
        "# Infraestrutura, Urbanização e demografia. Normalizado em z-score"
      ]
    },
    {
      "cell_type": "code",
      "metadata": {
        "id": "KGiKTL6OXJ8T",
        "colab_type": "code",
        "outputId": "728eb2d4-de12-4a27-f268-4b246bb8fd9a",
        "colab": {
          "base_uri": "https://localhost:8080/",
          "height": 374
        }
      },
      "source": [
        "from scipy.stats import zscore\n",
        "\n",
        "columns = ['Grau_de_Urbanizacao','Abastecimento_de_Agua','Coleta_de_Lixo','Esgoto_Sanitario ','Densidade_demográfica','Renda_per_capita']\n",
        "df_infra = df_raw[columns]\n",
        "\n",
        "df_infra = df_infra.apply(zscore) \n",
        "df_infra['IDHM'] = df_raw['IDHM']"
      ],
      "execution_count": 0,
      "outputs": [
        {
          "output_type": "error",
          "ename": "KeyError",
          "evalue": "ignored",
          "traceback": [
            "\u001b[0;31m---------------------------------------------------------------------------\u001b[0m",
            "\u001b[0;31mKeyError\u001b[0m                                  Traceback (most recent call last)",
            "\u001b[0;32m<ipython-input-18-d09db20ff77e>\u001b[0m in \u001b[0;36m<module>\u001b[0;34m()\u001b[0m\n\u001b[1;32m      2\u001b[0m \u001b[0;34m\u001b[0m\u001b[0m\n\u001b[1;32m      3\u001b[0m \u001b[0mcolumns\u001b[0m \u001b[0;34m=\u001b[0m \u001b[0;34m[\u001b[0m\u001b[0;34m'Grau_de_Urbanizacao'\u001b[0m\u001b[0;34m,\u001b[0m\u001b[0;34m'Abastecimento_de_Agua'\u001b[0m\u001b[0;34m,\u001b[0m\u001b[0;34m'Coleta_de_Lixo'\u001b[0m\u001b[0;34m,\u001b[0m\u001b[0;34m'Esgoto_Sanitario '\u001b[0m\u001b[0;34m,\u001b[0m\u001b[0;34m'Densidade_demográfica'\u001b[0m\u001b[0;34m,\u001b[0m\u001b[0;34m'Renda_per_capita'\u001b[0m\u001b[0;34m]\u001b[0m\u001b[0;34m\u001b[0m\u001b[0;34m\u001b[0m\u001b[0m\n\u001b[0;32m----> 4\u001b[0;31m \u001b[0mdf_infra\u001b[0m \u001b[0;34m=\u001b[0m \u001b[0mdf_raw\u001b[0m\u001b[0;34m[\u001b[0m\u001b[0mcolumns\u001b[0m\u001b[0;34m]\u001b[0m\u001b[0;34m\u001b[0m\u001b[0;34m\u001b[0m\u001b[0m\n\u001b[0m\u001b[1;32m      5\u001b[0m \u001b[0;34m\u001b[0m\u001b[0m\n\u001b[1;32m      6\u001b[0m \u001b[0mdf_infra\u001b[0m \u001b[0;34m=\u001b[0m \u001b[0mdf_infra\u001b[0m\u001b[0;34m.\u001b[0m\u001b[0mapply\u001b[0m\u001b[0;34m(\u001b[0m\u001b[0mzscore\u001b[0m\u001b[0;34m)\u001b[0m\u001b[0;34m\u001b[0m\u001b[0;34m\u001b[0m\u001b[0m\n",
            "\u001b[0;32m/usr/local/lib/python3.6/dist-packages/pandas/core/frame.py\u001b[0m in \u001b[0;36m__getitem__\u001b[0;34m(self, key)\u001b[0m\n\u001b[1;32m   2804\u001b[0m             \u001b[0;32mif\u001b[0m \u001b[0mis_iterator\u001b[0m\u001b[0;34m(\u001b[0m\u001b[0mkey\u001b[0m\u001b[0;34m)\u001b[0m\u001b[0;34m:\u001b[0m\u001b[0;34m\u001b[0m\u001b[0;34m\u001b[0m\u001b[0m\n\u001b[1;32m   2805\u001b[0m                 \u001b[0mkey\u001b[0m \u001b[0;34m=\u001b[0m \u001b[0mlist\u001b[0m\u001b[0;34m(\u001b[0m\u001b[0mkey\u001b[0m\u001b[0;34m)\u001b[0m\u001b[0;34m\u001b[0m\u001b[0;34m\u001b[0m\u001b[0m\n\u001b[0;32m-> 2806\u001b[0;31m             \u001b[0mindexer\u001b[0m \u001b[0;34m=\u001b[0m \u001b[0mself\u001b[0m\u001b[0;34m.\u001b[0m\u001b[0mloc\u001b[0m\u001b[0;34m.\u001b[0m\u001b[0m_get_listlike_indexer\u001b[0m\u001b[0;34m(\u001b[0m\u001b[0mkey\u001b[0m\u001b[0;34m,\u001b[0m \u001b[0maxis\u001b[0m\u001b[0;34m=\u001b[0m\u001b[0;36m1\u001b[0m\u001b[0;34m,\u001b[0m \u001b[0mraise_missing\u001b[0m\u001b[0;34m=\u001b[0m\u001b[0;32mTrue\u001b[0m\u001b[0;34m)\u001b[0m\u001b[0;34m[\u001b[0m\u001b[0;36m1\u001b[0m\u001b[0;34m]\u001b[0m\u001b[0;34m\u001b[0m\u001b[0;34m\u001b[0m\u001b[0m\n\u001b[0m\u001b[1;32m   2807\u001b[0m \u001b[0;34m\u001b[0m\u001b[0m\n\u001b[1;32m   2808\u001b[0m         \u001b[0;31m# take() does not accept boolean indexers\u001b[0m\u001b[0;34m\u001b[0m\u001b[0;34m\u001b[0m\u001b[0;34m\u001b[0m\u001b[0m\n",
            "\u001b[0;32m/usr/local/lib/python3.6/dist-packages/pandas/core/indexing.py\u001b[0m in \u001b[0;36m_get_listlike_indexer\u001b[0;34m(self, key, axis, raise_missing)\u001b[0m\n\u001b[1;32m   1551\u001b[0m \u001b[0;34m\u001b[0m\u001b[0m\n\u001b[1;32m   1552\u001b[0m         self._validate_read_indexer(\n\u001b[0;32m-> 1553\u001b[0;31m             \u001b[0mkeyarr\u001b[0m\u001b[0;34m,\u001b[0m \u001b[0mindexer\u001b[0m\u001b[0;34m,\u001b[0m \u001b[0mo\u001b[0m\u001b[0;34m.\u001b[0m\u001b[0m_get_axis_number\u001b[0m\u001b[0;34m(\u001b[0m\u001b[0maxis\u001b[0m\u001b[0;34m)\u001b[0m\u001b[0;34m,\u001b[0m \u001b[0mraise_missing\u001b[0m\u001b[0;34m=\u001b[0m\u001b[0mraise_missing\u001b[0m\u001b[0;34m\u001b[0m\u001b[0;34m\u001b[0m\u001b[0m\n\u001b[0m\u001b[1;32m   1554\u001b[0m         )\n\u001b[1;32m   1555\u001b[0m         \u001b[0;32mreturn\u001b[0m \u001b[0mkeyarr\u001b[0m\u001b[0;34m,\u001b[0m \u001b[0mindexer\u001b[0m\u001b[0;34m\u001b[0m\u001b[0;34m\u001b[0m\u001b[0m\n",
            "\u001b[0;32m/usr/local/lib/python3.6/dist-packages/pandas/core/indexing.py\u001b[0m in \u001b[0;36m_validate_read_indexer\u001b[0;34m(self, key, indexer, axis, raise_missing)\u001b[0m\n\u001b[1;32m   1644\u001b[0m             \u001b[0;32mif\u001b[0m \u001b[0;32mnot\u001b[0m \u001b[0;34m(\u001b[0m\u001b[0mself\u001b[0m\u001b[0;34m.\u001b[0m\u001b[0mname\u001b[0m \u001b[0;34m==\u001b[0m \u001b[0;34m\"loc\"\u001b[0m \u001b[0;32mand\u001b[0m \u001b[0;32mnot\u001b[0m \u001b[0mraise_missing\u001b[0m\u001b[0;34m)\u001b[0m\u001b[0;34m:\u001b[0m\u001b[0;34m\u001b[0m\u001b[0;34m\u001b[0m\u001b[0m\n\u001b[1;32m   1645\u001b[0m                 \u001b[0mnot_found\u001b[0m \u001b[0;34m=\u001b[0m \u001b[0mlist\u001b[0m\u001b[0;34m(\u001b[0m\u001b[0mset\u001b[0m\u001b[0;34m(\u001b[0m\u001b[0mkey\u001b[0m\u001b[0;34m)\u001b[0m \u001b[0;34m-\u001b[0m \u001b[0mset\u001b[0m\u001b[0;34m(\u001b[0m\u001b[0max\u001b[0m\u001b[0;34m)\u001b[0m\u001b[0;34m)\u001b[0m\u001b[0;34m\u001b[0m\u001b[0;34m\u001b[0m\u001b[0m\n\u001b[0;32m-> 1646\u001b[0;31m                 \u001b[0;32mraise\u001b[0m \u001b[0mKeyError\u001b[0m\u001b[0;34m(\u001b[0m\u001b[0;34mf\"{not_found} not in index\"\u001b[0m\u001b[0;34m)\u001b[0m\u001b[0;34m\u001b[0m\u001b[0;34m\u001b[0m\u001b[0m\n\u001b[0m\u001b[1;32m   1647\u001b[0m \u001b[0;34m\u001b[0m\u001b[0m\n\u001b[1;32m   1648\u001b[0m             \u001b[0;31m# we skip the warning on Categorical/Interval\u001b[0m\u001b[0;34m\u001b[0m\u001b[0;34m\u001b[0m\u001b[0;34m\u001b[0m\u001b[0m\n",
            "\u001b[0;31mKeyError\u001b[0m: \"['Esgoto_Sanitario '] not in index\""
          ]
        }
      ]
    },
    {
      "cell_type": "code",
      "metadata": {
        "id": "lW21Kf7_Yel8",
        "colab_type": "code",
        "colab": {}
      },
      "source": [
        "df_infra.head()"
      ],
      "execution_count": 0,
      "outputs": []
    },
    {
      "cell_type": "code",
      "metadata": {
        "id": "jmDDhKXqaLQ-",
        "colab_type": "code",
        "colab": {}
      },
      "source": [
        "plt.figure(figsize=(10,8))\n",
        "sns.heatmap(df_infra.corr(), annot=True)"
      ],
      "execution_count": 0,
      "outputs": []
    },
    {
      "cell_type": "markdown",
      "metadata": {
        "id": "C4T1QUuIgOmd",
        "colab_type": "text"
      },
      "source": [
        "# New Section"
      ]
    },
    {
      "cell_type": "code",
      "metadata": {
        "id": "l0p1dO1IfSFs",
        "colab_type": "code",
        "colab": {}
      },
      "source": [
        "from sklearn.metrics import silhouette_score\n",
        "\n",
        "silhouette_list = []\n",
        "k_list = range(2, 20)\n",
        "\n",
        "for p in k_list:\n",
        "    clusterer = AgglomerativeClustering(n_clusters=p, linkage=\"average\")\n",
        "    clusterer.fit(train_pop)\n",
        "    s = round(silhouette_score(train_pop, clusterer.labels_), 4)\n",
        "    silhouette_list.append(s)\n",
        "    print(\"silhouette_score =\", s, \" for k=\", p)\n",
        "\n",
        "key = silhouette_list.index(max(silhouette_list))\n",
        "k = k_list.__getitem__(key)\n",
        "\n",
        "print(\"Best=\", max(silhouette_list), \" for k=\", k)"
      ],
      "execution_count": 0,
      "outputs": []
    },
    {
      "cell_type": "code",
      "metadata": {
        "id": "F52losKzlxda",
        "colab_type": "code",
        "colab": {}
      },
      "source": [
        "from sklearn.cluster import AgglomerativeClustering\n",
        "import matplotlib.pyplot as pl\n",
        "import seaborn as sns\n",
        "\n",
        "model = AgglomerativeClustering(n_clusters=6)\n",
        "model.fit(train_pop)\n",
        "\n",
        "pl.scatter(train_pop['Abastecimento_de_Agua'], train_pop['Coleta_de_Lixo'], c = model.labels_)"
      ],
      "execution_count": 0,
      "outputs": []
    },
    {
      "cell_type": "markdown",
      "metadata": {
        "id": "iEFqQXwxq_v9",
        "colab_type": "text"
      },
      "source": [
        "KMEANS"
      ]
    },
    {
      "cell_type": "code",
      "metadata": {
        "id": "6SYLoUa9rAFi",
        "colab_type": "code",
        "colab": {}
      },
      "source": [
        "import pandas as pd\n",
        "import matplotlib.pyplot as pl\n",
        "import seaborn as sns\n",
        "\n",
        "from sklearn.impute import SimpleImputer\n",
        "imputer = SimpleImputer(strategy=\"median\")\n",
        "\n",
        "\n",
        "from sklearn.cluster import KMeans\n",
        "from sklearn.metrics import adjusted_rand_score\n",
        "\n",
        "model = KMeans(n_clusters=6)\n",
        "model.fit(train_pop)\n",
        "\n",
        "print(\"Top terms per cluster:\")\n",
        "order_centroids = model.cluster_centers_.argsort()[:, ::-1]\n",
        "for i in range(3):\n",
        "    print(\"\\n Cluster %d:\" % i),\n",
        "    for ind in order_centroids[i, :100]:\n",
        "        print(train_pop.iloc[ind].tolist())#('   %s' % terms[ind]),\n",
        "    print\n",
        "\n",
        "\n",
        "pl.scatter(train_pop.Abastecimento_de_Agua, train_pop.Coleta_de_Lixo, c = model.labels_)"
      ],
      "execution_count": 0,
      "outputs": []
    },
    {
      "cell_type": "code",
      "metadata": {
        "id": "gmqon3S1rOaL",
        "colab_type": "code",
        "colab": {}
      },
      "source": [
        "Nc = range(2, 15)\n",
        "kmeans_list = [KMeans(n_clusters=i) for i in Nc]\n",
        "#print(kmeans_list)\n",
        "score = [kmeans_list[i].fit(train).score(train) for i in range(len(kmeans_list))]\n",
        "score\n",
        "pl.plot(Nc,score)\n",
        "pl.xlabel('Number of Clusters')\n",
        "pl.ylabel('Score')\n",
        "pl.title('Elbow Curve')\n",
        "pl.show()"
      ],
      "execution_count": 0,
      "outputs": []
    },
    {
      "cell_type": "code",
      "metadata": {
        "id": "b56IPiQAsmXS",
        "colab_type": "code",
        "colab": {}
      },
      "source": [
        "import numpy as np\n",
        "\n",
        "from matplotlib import pyplot as plt\n",
        "from scipy.cluster.hierarchy import dendrogram\n",
        "from sklearn.cluster import AgglomerativeClustering\n",
        "\n",
        "model = AgglomerativeClustering(n_clusters=2)\n",
        "model = model.fit(train[:100])\n",
        "children = model.children_\n",
        "#print(model.labels_)\n",
        "#print(children)\n",
        "\n",
        "distance = np.arange(children.shape[0])\n",
        "#print(distance)\n",
        "no_of_observations = np.arange(2, children.shape[0]+2)\n",
        "#print(no_of_observations)\n",
        "linkage_matrix = np.column_stack([children, distance, no_of_observations]).astype(float)\n",
        "#print(linkage_matrix)\n",
        "\n",
        "plt.figure(figsize=(35, 15))\n",
        "dendrogram(linkage_matrix, labels=model.labels_)\n",
        "plt.title('Hierarchical Clustering Dendrogram')\n",
        "plt.show()"
      ],
      "execution_count": 0,
      "outputs": []
    },
    {
      "cell_type": "code",
      "metadata": {
        "id": "sD6bjGEROgOF",
        "colab_type": "code",
        "colab": {}
      },
      "source": [
        "corrmat = train.corr() \n",
        "  \n",
        "f, ax = plt.subplots(figsize =(9, 8)) \n",
        "sns.heatmap(corrmat, ax = ax, cmap =\"YlGnBu\", linewidths = 0.1)"
      ],
      "execution_count": 0,
      "outputs": []
    },
    {
      "cell_type": "code",
      "metadata": {
        "id": "6b31QuUaF_zI",
        "colab_type": "code",
        "colab": {}
      },
      "source": [
        "#https://www.geeksforgeeks.org/exploring-correlation-in-python/\n",
        "corrmat = train.corr()\n",
        "#sns.figure(figsize=(100,35))\n",
        "cg = sns.clustermap(corrmat, cmap =\"YlGnBu\", linewidths = 0.1);#annot=True \n",
        "plt.setp(cg.ax_heatmap.yaxis.get_majorticklabels(), rotation = 0) \n",
        "cg "
      ],
      "execution_count": 0,
      "outputs": []
    },
    {
      "cell_type": "code",
      "metadata": {
        "id": "DkqNdVdmsqTA",
        "colab_type": "code",
        "colab": {}
      },
      "source": [
        "train.describe()"
      ],
      "execution_count": 0,
      "outputs": []
    },
    {
      "cell_type": "code",
      "metadata": {
        "id": "vND1N-z9vB--",
        "colab_type": "code",
        "colab": {}
      },
      "source": [
        "'''from pandas.plotting import scatter_matrix\n",
        "scatter_matrix(train, alpha=0.2, figsize=(50, 50), diagonal='kde')'''"
      ],
      "execution_count": 0,
      "outputs": []
    },
    {
      "cell_type": "code",
      "metadata": {
        "id": "OVkUWB9r8sCw",
        "colab_type": "code",
        "colab": {}
      },
      "source": [
        "from scipy.stats import zscore\n",
        "\n",
        "temp_list = []\n",
        "\n",
        "for column in train:\n",
        "  if df_raw[column].mean()>=1:\n",
        "    temp_list.append(column)"
      ],
      "execution_count": 0,
      "outputs": []
    },
    {
      "cell_type": "code",
      "metadata": {
        "id": "QQz6IZf0c7tV",
        "colab_type": "code",
        "colab": {}
      },
      "source": [
        "temp_list.remove('IDHM_Ranking')\n",
        "train_zscore =  train[temp_list]\n",
        "train_zscore = train_zscore.apply(zscore)"
      ],
      "execution_count": 0,
      "outputs": []
    },
    {
      "cell_type": "code",
      "metadata": {
        "id": "DK2lei9Ld6Qo",
        "colab_type": "code",
        "colab": {}
      },
      "source": [
        "train_zscore.head(20)"
      ],
      "execution_count": 0,
      "outputs": []
    },
    {
      "cell_type": "code",
      "metadata": {
        "id": "qrUIQ4XmduNs",
        "colab_type": "code",
        "outputId": "abf9303a-1539-4d14-cca5-fe677ad0898e",
        "colab": {
          "base_uri": "https://localhost:8080/",
          "height": 214
        }
      },
      "source": [
        "model = KMeans(n_clusters=2)\n",
        "model.fit(train_zscore)\n",
        "\n",
        "pl.scatter(train_zscore.Abastecimento_de_Agua, train_zscore.Populacao, c = model.labels_)"
      ],
      "execution_count": 0,
      "outputs": [
        {
          "output_type": "error",
          "ename": "NameError",
          "evalue": "ignored",
          "traceback": [
            "\u001b[0;31m---------------------------------------------------------------------------\u001b[0m",
            "\u001b[0;31mNameError\u001b[0m                                 Traceback (most recent call last)",
            "\u001b[0;32m<ipython-input-19-4a50e65c88e6>\u001b[0m in \u001b[0;36m<module>\u001b[0;34m()\u001b[0m\n\u001b[0;32m----> 1\u001b[0;31m \u001b[0mmodel\u001b[0m \u001b[0;34m=\u001b[0m \u001b[0mKMeans\u001b[0m\u001b[0;34m(\u001b[0m\u001b[0mn_clusters\u001b[0m\u001b[0;34m=\u001b[0m\u001b[0;36m2\u001b[0m\u001b[0;34m)\u001b[0m\u001b[0;34m\u001b[0m\u001b[0;34m\u001b[0m\u001b[0m\n\u001b[0m\u001b[1;32m      2\u001b[0m \u001b[0mmodel\u001b[0m\u001b[0;34m.\u001b[0m\u001b[0mfit\u001b[0m\u001b[0;34m(\u001b[0m\u001b[0mtrain_zscore\u001b[0m\u001b[0;34m)\u001b[0m\u001b[0;34m\u001b[0m\u001b[0;34m\u001b[0m\u001b[0m\n\u001b[1;32m      3\u001b[0m \u001b[0;34m\u001b[0m\u001b[0m\n\u001b[1;32m      4\u001b[0m \u001b[0mpl\u001b[0m\u001b[0;34m.\u001b[0m\u001b[0mscatter\u001b[0m\u001b[0;34m(\u001b[0m\u001b[0mtrain_zscore\u001b[0m\u001b[0;34m.\u001b[0m\u001b[0mAbastecimento_de_Agua\u001b[0m\u001b[0;34m,\u001b[0m \u001b[0mtrain_zscore\u001b[0m\u001b[0;34m.\u001b[0m\u001b[0mPopulacao\u001b[0m\u001b[0;34m,\u001b[0m \u001b[0mc\u001b[0m \u001b[0;34m=\u001b[0m \u001b[0mmodel\u001b[0m\u001b[0;34m.\u001b[0m\u001b[0mlabels_\u001b[0m\u001b[0;34m)\u001b[0m\u001b[0;34m\u001b[0m\u001b[0;34m\u001b[0m\u001b[0m\n",
            "\u001b[0;31mNameError\u001b[0m: name 'KMeans' is not defined"
          ]
        }
      ]
    },
    {
      "cell_type": "code",
      "metadata": {
        "id": "U0i758fkOAqz",
        "colab_type": "code",
        "outputId": "604b4222-33aa-4dcd-d32c-97117d948a01",
        "colab": {
          "base_uri": "https://localhost:8080/",
          "height": 268
        }
      },
      "source": [
        "from sklearn.cluster import KMeans\n",
        "from sklearn.datasets import make_blobs\n",
        "\n",
        "from yellowbrick.cluster import KElbowVisualizer\n",
        "\n",
        "model = KMeans()\n",
        "visualizer = KElbowVisualizer(model, k=(4,12), metric='calinski_harabaz', timings=False)\n",
        "\n",
        "visualizer.fit(train_zscore)        \n",
        "    "
      ],
      "execution_count": 0,
      "outputs": [
        {
          "output_type": "stream",
          "text": [
            "/usr/local/lib/python3.6/dist-packages/sklearn/utils/deprecation.py:144: FutureWarning: The sklearn.metrics.classification module is  deprecated in version 0.22 and will be removed in version 0.24. The corresponding classes / functions should instead be imported from sklearn.metrics. Anything that cannot be imported from sklearn.metrics is now part of the private API.\n",
            "  warnings.warn(message, FutureWarning)\n"
          ],
          "name": "stderr"
        },
        {
          "output_type": "error",
          "ename": "NameError",
          "evalue": "ignored",
          "traceback": [
            "\u001b[0;31m---------------------------------------------------------------------------\u001b[0m",
            "\u001b[0;31mNameError\u001b[0m                                 Traceback (most recent call last)",
            "\u001b[0;32m<ipython-input-20-5f2955748313>\u001b[0m in \u001b[0;36m<module>\u001b[0;34m()\u001b[0m\n\u001b[1;32m      7\u001b[0m \u001b[0mvisualizer\u001b[0m \u001b[0;34m=\u001b[0m \u001b[0mKElbowVisualizer\u001b[0m\u001b[0;34m(\u001b[0m\u001b[0mmodel\u001b[0m\u001b[0;34m,\u001b[0m \u001b[0mk\u001b[0m\u001b[0;34m=\u001b[0m\u001b[0;34m(\u001b[0m\u001b[0;36m4\u001b[0m\u001b[0;34m,\u001b[0m\u001b[0;36m12\u001b[0m\u001b[0;34m)\u001b[0m\u001b[0;34m,\u001b[0m \u001b[0mmetric\u001b[0m\u001b[0;34m=\u001b[0m\u001b[0;34m'calinski_harabaz'\u001b[0m\u001b[0;34m,\u001b[0m \u001b[0mtimings\u001b[0m\u001b[0;34m=\u001b[0m\u001b[0;32mFalse\u001b[0m\u001b[0;34m)\u001b[0m\u001b[0;34m\u001b[0m\u001b[0;34m\u001b[0m\u001b[0m\n\u001b[1;32m      8\u001b[0m \u001b[0;34m\u001b[0m\u001b[0m\n\u001b[0;32m----> 9\u001b[0;31m \u001b[0mvisualizer\u001b[0m\u001b[0;34m.\u001b[0m\u001b[0mfit\u001b[0m\u001b[0;34m(\u001b[0m\u001b[0mtrain_zscore\u001b[0m\u001b[0;34m)\u001b[0m\u001b[0;34m\u001b[0m\u001b[0;34m\u001b[0m\u001b[0m\n\u001b[0m\u001b[1;32m     10\u001b[0m \u001b[0;34m\u001b[0m\u001b[0m\n",
            "\u001b[0;31mNameError\u001b[0m: name 'train_zscore' is not defined"
          ]
        }
      ]
    },
    {
      "cell_type": "code",
      "metadata": {
        "id": "MCFehuFWBgUv",
        "colab_type": "code",
        "colab": {}
      },
      "source": [
        "#https://www.geeksforgeeks.org/exploring-correlation-in-python/\n",
        "'''train.drop(['Criancas', 'Populacao_Masculina', 'Jovens', 'IDHM_Ranking'], axis=1, inplace=True)\n",
        "\n",
        "corrmat = train.corr()\n",
        "sns.clustermap(corrmat, cmap =\"YlGnBu\", linewidths = 0.01) '''"
      ],
      "execution_count": 0,
      "outputs": []
    },
    {
      "cell_type": "code",
      "metadata": {
        "id": "5mV3f93M8KQz",
        "colab_type": "code",
        "outputId": "b70f0ba5-e42a-4db2-89b2-973588e1788c",
        "colab": {
          "base_uri": "https://localhost:8080/",
          "height": 163
        }
      },
      "source": [
        "train.head()"
      ],
      "execution_count": 0,
      "outputs": [
        {
          "output_type": "error",
          "ename": "NameError",
          "evalue": "ignored",
          "traceback": [
            "\u001b[0;31m---------------------------------------------------------------------------\u001b[0m",
            "\u001b[0;31mNameError\u001b[0m                                 Traceback (most recent call last)",
            "\u001b[0;32m<ipython-input-21-3b77fa18a747>\u001b[0m in \u001b[0;36m<module>\u001b[0;34m()\u001b[0m\n\u001b[0;32m----> 1\u001b[0;31m \u001b[0mtrain\u001b[0m\u001b[0;34m.\u001b[0m\u001b[0mhead\u001b[0m\u001b[0;34m(\u001b[0m\u001b[0;34m)\u001b[0m\u001b[0;34m\u001b[0m\u001b[0;34m\u001b[0m\u001b[0m\n\u001b[0m",
            "\u001b[0;31mNameError\u001b[0m: name 'train' is not defined"
          ]
        }
      ]
    },
    {
      "cell_type": "code",
      "metadata": {
        "id": "JyGvHXHmzt9O",
        "colab_type": "code",
        "outputId": "698a51f4-5bf8-48fd-8686-8a34f05ce411",
        "colab": {
          "base_uri": "https://localhost:8080/",
          "height": 163
        }
      },
      "source": [
        "train.to_csv('/content/sample_data/municipios_data.csv', index=False)"
      ],
      "execution_count": 0,
      "outputs": [
        {
          "output_type": "error",
          "ename": "NameError",
          "evalue": "ignored",
          "traceback": [
            "\u001b[0;31m---------------------------------------------------------------------------\u001b[0m",
            "\u001b[0;31mNameError\u001b[0m                                 Traceback (most recent call last)",
            "\u001b[0;32m<ipython-input-22-ad912608643b>\u001b[0m in \u001b[0;36m<module>\u001b[0;34m()\u001b[0m\n\u001b[0;32m----> 1\u001b[0;31m \u001b[0mtrain\u001b[0m\u001b[0;34m.\u001b[0m\u001b[0mto_csv\u001b[0m\u001b[0;34m(\u001b[0m\u001b[0;34m'/content/sample_data/municipios_data.csv'\u001b[0m\u001b[0;34m,\u001b[0m \u001b[0mindex\u001b[0m\u001b[0;34m=\u001b[0m\u001b[0;32mFalse\u001b[0m\u001b[0;34m)\u001b[0m\u001b[0;34m\u001b[0m\u001b[0;34m\u001b[0m\u001b[0m\n\u001b[0m",
            "\u001b[0;31mNameError\u001b[0m: name 'train' is not defined"
          ]
        }
      ]
    },
    {
      "cell_type": "code",
      "metadata": {
        "id": "-Ds4NmKl9KvF",
        "colab_type": "code",
        "colab": {}
      },
      "source": [
        "corrmat = train.corr() \n",
        "  \n",
        "f, ax = plt.subplots(figsize =(9, 8)) \n",
        "sns.heatmap(corrmat, ax = ax, cmap =\"YlGnBu\", linewidths = 0.1)"
      ],
      "execution_count": 0,
      "outputs": []
    },
    {
      "cell_type": "code",
      "metadata": {
        "id": "2An_EL-T9WI8",
        "colab_type": "code",
        "colab": {}
      },
      "source": [
        "#https://www.geeksforgeeks.org/exploring-correlation-in-python/\n",
        "corrmat = train.corr()\n",
        "#sns.figure(figsize=(100,35))\n",
        "cg = sns.clustermap(corrmat, cmap =\"YlGnBu\", linewidths = 0.1);#annot=True \n",
        "plt.setp(cg.ax_heatmap.yaxis.get_majorticklabels(), rotation = 0) \n",
        "cg "
      ],
      "execution_count": 0,
      "outputs": []
    },
    {
      "cell_type": "code",
      "metadata": {
        "id": "2h5xHoxq9e-r",
        "colab_type": "code",
        "outputId": "a94b6b59-c6a9-4ae5-947c-035d88290005",
        "colab": {
          "base_uri": "https://localhost:8080/",
          "height": 231
        }
      },
      "source": [
        "import numpy as np\n",
        "\n",
        "from matplotlib import pyplot as plt\n",
        "from scipy.cluster.hierarchy import dendrogram\n",
        "from sklearn.cluster import AgglomerativeClustering\n",
        "\n",
        "model = AgglomerativeClustering(n_clusters=2)\n",
        "model = model.fit(train[:100])\n",
        "children = model.children_\n",
        "#print(model.labels_)\n",
        "#print(children)\n",
        "\n",
        "distance = np.arange(children.shape[0])\n",
        "#print(distance)\n",
        "no_of_observations = np.arange(2, children.shape[0]+2)\n",
        "#print(no_of_observations)\n",
        "linkage_matrix = np.column_stack([children, distance, no_of_observations]).astype(float)\n",
        "#print(linkage_matrix)\n",
        "\n",
        "plt.figure(figsize=(35, 15))\n",
        "dendrogram(linkage_matrix, labels=model.labels_)\n",
        "plt.title('Hierarchical Clustering Dendrogram')\n",
        "plt.show()"
      ],
      "execution_count": 0,
      "outputs": [
        {
          "output_type": "error",
          "ename": "NameError",
          "evalue": "ignored",
          "traceback": [
            "\u001b[0;31m---------------------------------------------------------------------------\u001b[0m",
            "\u001b[0;31mNameError\u001b[0m                                 Traceback (most recent call last)",
            "\u001b[0;32m<ipython-input-23-e763b25cc5c3>\u001b[0m in \u001b[0;36m<module>\u001b[0;34m()\u001b[0m\n\u001b[1;32m      6\u001b[0m \u001b[0;34m\u001b[0m\u001b[0m\n\u001b[1;32m      7\u001b[0m \u001b[0mmodel\u001b[0m \u001b[0;34m=\u001b[0m \u001b[0mAgglomerativeClustering\u001b[0m\u001b[0;34m(\u001b[0m\u001b[0mn_clusters\u001b[0m\u001b[0;34m=\u001b[0m\u001b[0;36m2\u001b[0m\u001b[0;34m)\u001b[0m\u001b[0;34m\u001b[0m\u001b[0;34m\u001b[0m\u001b[0m\n\u001b[0;32m----> 8\u001b[0;31m \u001b[0mmodel\u001b[0m \u001b[0;34m=\u001b[0m \u001b[0mmodel\u001b[0m\u001b[0;34m.\u001b[0m\u001b[0mfit\u001b[0m\u001b[0;34m(\u001b[0m\u001b[0mtrain\u001b[0m\u001b[0;34m[\u001b[0m\u001b[0;34m:\u001b[0m\u001b[0;36m100\u001b[0m\u001b[0;34m]\u001b[0m\u001b[0;34m)\u001b[0m\u001b[0;34m\u001b[0m\u001b[0;34m\u001b[0m\u001b[0m\n\u001b[0m\u001b[1;32m      9\u001b[0m \u001b[0mchildren\u001b[0m \u001b[0;34m=\u001b[0m \u001b[0mmodel\u001b[0m\u001b[0;34m.\u001b[0m\u001b[0mchildren_\u001b[0m\u001b[0;34m\u001b[0m\u001b[0;34m\u001b[0m\u001b[0m\n\u001b[1;32m     10\u001b[0m \u001b[0;31m#print(model.labels_)\u001b[0m\u001b[0;34m\u001b[0m\u001b[0;34m\u001b[0m\u001b[0;34m\u001b[0m\u001b[0m\n",
            "\u001b[0;31mNameError\u001b[0m: name 'train' is not defined"
          ]
        }
      ]
    },
    {
      "cell_type": "code",
      "metadata": {
        "id": "fuh-IJ4E-4aV",
        "colab_type": "code",
        "colab": {}
      },
      "source": [
        "plt.hist(train['Populacao_Feminina'])"
      ],
      "execution_count": 0,
      "outputs": []
    },
    {
      "cell_type": "code",
      "metadata": {
        "id": "-aGxJWKM6-OF",
        "colab_type": "code",
        "colab": {}
      },
      "source": [
        ""
      ],
      "execution_count": 0,
      "outputs": []
    }
  ]
}